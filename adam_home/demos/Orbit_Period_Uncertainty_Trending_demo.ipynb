{
 "cells": [
  {
   "cell_type": "code",
   "execution_count": 3,
   "metadata": {},
   "outputs": [],
   "source": [
    "''' Orbit Period Uncertainty Trending '''\n",
    "# --------------------------------------------------------------\n",
    "# HEADER PATH/FILE/PACKAGE SETUP\n",
    "# --------------------------------------------------------------\n",
    "import sys, os, math\n",
    "import numpy as np\n",
    "\n",
    "from os.path import expanduser\n",
    "# path to module:\n",
    "# sys.path.append(expanduser(\"~\") + \"/TestingTravisCI/adam_home/MY_functions/\")\n",
    "# set GitHub base path\n",
    "GitHubPath_func = '/home/travis/build/RookinsAndBear/TestingTravisCI/adam_home/MY_functions/'\n",
    "sys.path.append(GitHubPath_func)\n",
    "GitHubPath_e = '/home/travis/build/RookinsAndBear/TestingTravisCI/adam_home/data/ephem/'\n",
    "sys.path.append(GitHubPath_e)\n",
    "# sys.path.append(expanduser(\"~\") + \"/adam_home\")\n",
    "# from adam import adam_config\n",
    "# sys.path.append(adam_config.setPaths.MY_functions_path)\n",
    "\n",
    "from OrbitStatistics import CartCovSymmetricFromCartCovSTK\n",
    "from OrbitStatistics import ComputePeriodCovFromCartCov \n",
    "from ExtractEphemData import dummy_ExtractPosVelCov \n",
    "from ExtractEphemData import odtk_ExtractPosVelCov"
   ]
  },
  {
   "cell_type": "code",
   "execution_count": 4,
   "metadata": {},
   "outputs": [
    {
     "data": {
      "text/plain": [
       "['',\n",
       " 'C:\\\\Users\\\\macuser\\\\Anaconda3\\\\python36.zip',\n",
       " 'C:\\\\Users\\\\macuser\\\\Anaconda3\\\\DLLs',\n",
       " 'C:\\\\Users\\\\macuser\\\\Anaconda3\\\\lib',\n",
       " 'C:\\\\Users\\\\macuser\\\\Anaconda3',\n",
       " 'C:\\\\Users\\\\macuser\\\\AppData\\\\Roaming\\\\Python\\\\Python36\\\\site-packages',\n",
       " 'C:\\\\Users\\\\macuser\\\\Anaconda3\\\\lib\\\\site-packages',\n",
       " 'C:\\\\Users\\\\macuser\\\\Anaconda3\\\\lib\\\\site-packages\\\\win32',\n",
       " 'C:\\\\Users\\\\macuser\\\\Anaconda3\\\\lib\\\\site-packages\\\\win32\\\\lib',\n",
       " 'C:\\\\Users\\\\macuser\\\\Anaconda3\\\\lib\\\\site-packages\\\\Pythonwin',\n",
       " 'C:\\\\Users\\\\macuser\\\\Anaconda3\\\\lib\\\\site-packages\\\\IPython\\\\extensions',\n",
       " 'C:\\\\Users\\\\macuser\\\\.ipython',\n",
       " 'C:\\\\Users\\\\macuser/TestingTravisCI/adam_home/MY_functions/',\n",
       " '/home/travis/build/RookinsAndBear/TestingTravisCI/adam_home/MY_functions',\n",
       " '/home/travis/build/RookinsAndBear/TestingTravisCI/adam_home/data/ephem',\n",
       " 'C:\\\\Users\\\\macuser/adam_home',\n",
       " 'C:\\\\Users\\\\macuser/TestingTravisCI/adam_home/MY_functions/',\n",
       " '/home/travis/build/RookinsAndBear/TestingTravisCI/adam_home/MY_functions',\n",
       " '/home/travis/build/RookinsAndBear/TestingTravisCI/adam_home/data/ephem',\n",
       " 'C:\\\\Users\\\\macuser/adam_home']"
      ]
     },
     "execution_count": 4,
     "metadata": {},
     "output_type": "execute_result"
    }
   ],
   "source": [
    "# sys.path"
   ]
  },
  {
   "cell_type": "code",
   "execution_count": 6,
   "metadata": {
    "scrolled": true
   },
   "outputs": [
    {
     "name": "stdout",
     "output_type": "stream",
     "text": [
      "Period Uncertainty 1-sigma StdDev (sec):  0.41907211073112943\n"
     ]
    }
   ],
   "source": [
    "# --------------------------------------------------------------\n",
    "# USER INPUT AND CONSTANTS - using ODTK.e file format\n",
    "# assuming .e file set 1:1 for time - time is not duplicated as original file is\n",
    "# --------------------------------------------------------------\n",
    "# ephem_file = '/Users/macuser/TestingTravisCI/adam_home/data/ephem/modified_dummy.e'\n",
    "ephem_file = GitHubPath_e + '/modified_dummy.e'\n",
    "# User sets the reference time for analysis (sec) as a string to be read from the ephemeris file\n",
    "#ref_time = '167860'\n",
    "ref_time = '5606'\n",
    "#ref_time = '196'\n",
    "# gravitational param (m^3/sec^2)\n",
    "Gm = 398600.5*1000000000 #Earth\n",
    "\n",
    "values_stk = odtk_ExtractPosVelCov(ephem_file, ref_time)\n",
    "\n",
    "TimePosVel = (\n",
    "                [values_stk[0]],\n",
    "                [values_stk[1], values_stk[2], values_stk[3]],\n",
    "                [values_stk[4], values_stk[5], values_stk[6]]\n",
    "            )\n",
    "\n",
    "CartCov_6x6 = CartCovSymmetricFromCartCovSTK(values_stk)\n",
    "\n",
    "PeriodCov = ComputePeriodCovFromCartCov(TimePosVel[1], TimePosVel[2], CartCov_6x6, Gm)\n",
    "print('Period Uncertainty 1-sigma StdDev (sec): ', math.sqrt(PeriodCov))"
   ]
  },
  {
   "cell_type": "code",
   "execution_count": 7,
   "metadata": {},
   "outputs": [],
   "source": [
    "# --------------------------------------------------------------\n",
    "# USER INPUT AND CONSTANTS - USING dummy.e file format\n",
    "# --------------------------------------------------------------\n",
    "ephem_file = 'dummy_ephem.e'\n",
    "# ephem_file = '/Users/macuser/TestingTravisCI/adam_home/data/ephem/dummy_ephem.e'\n",
    "# User sets the reference time for analysis (sec) as a string to be read from the ephemeris file\n",
    "ref_time = '29808000'\n",
    "# gravitational param (m^3/sec^2)\n",
    "Gm = 398600.5*1000000000"
   ]
  },
  {
   "cell_type": "code",
   "execution_count": 10,
   "metadata": {},
   "outputs": [],
   "source": [
    "# read ephem file\n",
    "# values_stk = dummy_ExtractPosVelCov(adam_config.setPaths.ephem_path + ephem_file, ref_time)\n",
    "values_stk = dummy_ExtractPosVelCov(GitHubPath_e + ephem_file, ref_time)\n",
    "# values_stk = dummy_ExtractPosVelCov(ephem_file, ref_time)\n",
    "\n",
    "TimePosVel = (\n",
    "                [values_stk[0]],\n",
    "                [values_stk[1], values_stk[2], values_stk[3]],\n",
    "                [values_stk[4], values_stk[5], values_stk[6]]\n",
    "            )"
   ]
  },
  {
   "cell_type": "code",
   "execution_count": 11,
   "metadata": {},
   "outputs": [],
   "source": [
    "CartCov_6x6 = CartCovSymmetricFromCartCovSTK(values_stk)"
   ]
  },
  {
   "cell_type": "code",
   "execution_count": 12,
   "metadata": {},
   "outputs": [
    {
     "name": "stdout",
     "output_type": "stream",
     "text": [
      "Period Uncertainty 1-sigma StdDev (sec):  7.167808316507894\n"
     ]
    }
   ],
   "source": [
    "PeriodCov = ComputePeriodCovFromCartCov(TimePosVel[1], TimePosVel[2], CartCov_6x6, Gm)\n",
    "print('Period Uncertainty 1-sigma StdDev (sec): ', math.sqrt(PeriodCov))"
   ]
  },
  {
   "cell_type": "code",
   "execution_count": 13,
   "metadata": {
    "scrolled": true
   },
   "outputs": [],
   "source": [
    "# Testing and Debugging Options"
   ]
  },
  {
   "cell_type": "code",
   "execution_count": 18,
   "metadata": {},
   "outputs": [],
   "source": [
    "# OPTION 1\n",
    "def add(a, b):\n",
    "    '''\n",
    "    This is the test:\n",
    "    >>> add(2, 2)\n",
    "    4\n",
    "    '''\n",
    "    # PDB debugger is difficult to get out of. Only enable this if you are sitting with the test\n",
    "    # and able to restart the kernel. The notebook won't proceed if you enable this.\n",
    "    # import pdb; pdb.set_trace() # Uncomment this line to start the PDB debugger at this point.\n",
    "    return a + b"
   ]
  },
  {
   "cell_type": "code",
   "execution_count": 19,
   "metadata": {},
   "outputs": [
    {
     "name": "stdout",
     "output_type": "stream",
     "text": [
      "9\n"
     ]
    }
   ],
   "source": [
    "print(add(4, 5))"
   ]
  },
  {
   "cell_type": "code",
   "execution_count": 25,
   "metadata": {},
   "outputs": [],
   "source": [
    "# OPTION 1\n",
    "def subtract(a, b):\n",
    "    '''\n",
    "    This is the test:\n",
    "    >>> subtract(10, 2)\n",
    "    8\n",
    "    \n",
    "    >>> subtract(2,10)\n",
    "    -8\n",
    "    '''\n",
    "    # PDB debugger is difficult to get out of. Only enable this if you are sitting with the test\n",
    "    # and able to restart the kernel. The notebook won't proceed if you enable this.\n",
    "    # import pdb; pdb.set_trace() # Uncomment this line to start the PDB debugger at this point.\n",
    "    return a - b"
   ]
  },
  {
   "cell_type": "code",
   "execution_count": 26,
   "metadata": {},
   "outputs": [
    {
     "name": "stdout",
     "output_type": "stream",
     "text": [
      "8\n"
     ]
    }
   ],
   "source": [
    "print(subtract(10,2))"
   ]
  },
  {
   "cell_type": "code",
   "execution_count": null,
   "metadata": {},
   "outputs": [],
   "source": [
    "# KEYBOARD SHORTCUT: Esc + r = disable cell by turning into raw format, Esc + y = turn back to code"
   ]
  },
  {
   "cell_type": "code",
   "execution_count": null,
   "metadata": {},
   "outputs": [],
   "source": [
    "# OPTION 2: add these 2 lines at the end of the notebook\n",
    "import doctest\n",
    "doctest.testmod(verbose=True)"
   ]
  },
  {
   "cell_type": "code",
   "execution_count": 23,
   "metadata": {},
   "outputs": [],
   "source": [
    "# OPTION 3\n",
    "import unittest\n",
    "\n",
    "class TestNotebook(unittest.TestCase):\n",
    "    \n",
    "    def test_add(self):\n",
    "        self.assertEqual(add(2, 2), 4)"
   ]
  },
  {
   "cell_type": "raw",
   "metadata": {},
   "source": [
    "# raw format for OPTION 3\n",
    "unittest.main(argv=[''], verbosity=2, exit=False)"
   ]
  },
  {
   "cell_type": "code",
   "execution_count": null,
   "metadata": {},
   "outputs": [],
   "source": []
  }
 ],
 "metadata": {
  "kernelspec": {
   "display_name": "Python 3",
   "language": "python",
   "name": "python3"
  },
  "language_info": {
   "codemirror_mode": {
    "name": "ipython",
    "version": 3
   },
   "file_extension": ".py",
   "mimetype": "text/x-python",
   "name": "python",
   "nbconvert_exporter": "python",
   "pygments_lexer": "ipython3",
   "version": "3.6.4"
  }
 },
 "nbformat": 4,
 "nbformat_minor": 2
}

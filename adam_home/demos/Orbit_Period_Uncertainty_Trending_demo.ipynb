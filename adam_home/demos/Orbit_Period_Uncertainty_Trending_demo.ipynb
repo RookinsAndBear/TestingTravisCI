{
 "cells": [
  {
   "cell_type": "raw",
   "metadata": {},
   "source": [
    "''' Orbit Period Uncertainty Trending '''\n",
    "# --------------------------------------------------------------\n",
    "# HEADER PATH/FILE/PACKAGE SETUP\n",
    "# --------------------------------------------------------------\n",
    "import sys, os, math\n",
    "import numpy as np\n",
    "\n",
    "from os.path import expanduser\n",
    "# path to module:\n",
    "# sys.path.append(expanduser(\"~\") + \"/TestingTravisCI/adam_home/MY_functions/\")\n",
    "# set GitHub base path\n",
    "GitHubPath_func = '/home/travis/build/RookinsAndBear/TestingTravisCI/adam_home/MY_functions/'\n",
    "sys.path.append(GitHubPath_func)\n",
    "GitHubPath_e = '/home/travis/build/RookinsAndBear/TestingTravisCI/adam_home/data/ephem/'\n",
    "sys.path.append(GitHubPath_e)\n",
    "# sys.path.append(expanduser(\"~\") + \"/adam_home\")\n",
    "# from adam import adam_config\n",
    "# sys.path.append(adam_config.setPaths.MY_functions_path)\n",
    "\n",
    "from OrbitStatistics import CartCovSymmetricFromCartCovSTK\n",
    "from OrbitStatistics import ComputePeriodCovFromCartCov \n",
    "from ExtractEphemData import dummy_ExtractPosVelCov \n",
    "from ExtractEphemData import odtk_ExtractPosVelCov"
   ]
  },
  {
   "cell_type": "raw",
   "metadata": {},
   "source": [
    "# sys.path"
   ]
  },
  {
   "cell_type": "raw",
   "metadata": {
    "scrolled": true
   },
   "source": [
    "# %xmode verbose\n",
    "# %pdb on\n",
    "# --------------------------------------------------------------\n",
    "# USER INPUT AND CONSTANTS - using ODTK.e file format\n",
    "# assuming .e file set 1:1 for time - time is not duplicated as original file is\n",
    "# --------------------------------------------------------------\n",
    "# ephem_file = '/Users/macuser/TestingTravisCI/adam_home/data/ephem/modified_dummy.e'\n",
    "ephem_file = GitHubPath_e + '/modified_dummy.e'\n",
    "# User sets the reference time for analysis (sec) as a string to be read from the ephemeris file\n",
    "#ref_time = '167860'\n",
    "ref_time = '5606'\n",
    "#ref_time = '196'\n",
    "# gravitational param (m^3/sec^2)\n",
    "Gm = 398600.5*1000000000 #Earth\n",
    "\n",
    "values_stk = odtk_ExtractPosVelCov(ephem_file, ref_time)\n",
    "\n",
    "TimePosVel = (\n",
    "                [values_stk[0]],\n",
    "                [values_stk[1], values_stk[2], values_stk[3]],\n",
    "                [values_stk[4], values_stk[5], values_stk[6]]\n",
    "            )\n",
    "\n",
    "CartCov_6x6 = CartCovSymmetricFromCartCovSTK(values_stk)\n",
    "\n",
    "PeriodCov = ComputePeriodCovFromCartCov(TimePosVel[1], TimePosVel[2], CartCov_6x6, Gm)\n",
    "print('Period Uncertainty 1-sigma StdDev (sec): ', math.sqrt(PeriodCov))"
   ]
  },
  {
   "cell_type": "raw",
   "metadata": {},
   "source": [
    "# --------------------------------------------------------------\n",
    "# USER INPUT AND CONSTANTS - USING dummy.e file format\n",
    "# --------------------------------------------------------------\n",
    "ephem_file = 'dummy_ephem.e'\n",
    "# ephem_file = '/Users/macuser/TestingTravisCI/adam_home/data/ephem/dummy_ephem.e'\n",
    "# User sets the reference time for analysis (sec) as a string to be read from the ephemeris file\n",
    "ref_time = '29808000'\n",
    "# gravitational param (m^3/sec^2)\n",
    "Gm = 398600.5*1000000000"
   ]
  },
  {
   "cell_type": "raw",
   "metadata": {},
   "source": [
    "# read ephem file\n",
    "# values_stk = dummy_ExtractPosVelCov(adam_config.setPaths.ephem_path + ephem_file, ref_time)\n",
    "values_stk = dummy_ExtractPosVelCov(GitHubPath_e + ephem_file, ref_time)\n",
    "# values_stk = dummy_ExtractPosVelCov(ephem_file, ref_time)\n",
    "\n",
    "TimePosVel = (\n",
    "                [values_stk[0]],\n",
    "                [values_stk[1], values_stk[2], values_stk[3]],\n",
    "                [values_stk[4], values_stk[5], values_stk[6]]\n",
    "            )"
   ]
  },
  {
   "cell_type": "raw",
   "metadata": {},
   "source": [
    "CartCov_6x6 = CartCovSymmetricFromCartCovSTK(values_stk)"
   ]
  },
  {
   "cell_type": "raw",
   "metadata": {},
   "source": [
    "PeriodCov = ComputePeriodCovFromCartCov(TimePosVel[1], TimePosVel[2], CartCov_6x6, Gm)\n",
    "print('Period Uncertainty 1-sigma StdDev (sec): ', math.sqrt(PeriodCov))"
   ]
  },
  {
   "cell_type": "raw",
   "metadata": {
    "scrolled": true
   },
   "source": [
    "# Testing and Debugging Options"
   ]
  },
  {
   "cell_type": "raw",
   "metadata": {},
   "source": [
    "# OPTION 1\n",
    "def add(a, b):\n",
    "    '''\n",
    "    This is the test:\n",
    "    >>> add(2, 2)\n",
    "    4\n",
    "    '''\n",
    "    # failed doctest = travis pass\n",
    "    # PDB debugger is difficult to get out of. Only enable this if you are sitting with the test\n",
    "    # and able to restart the kernel. The notebook won't proceed if you enable this.\n",
    "    # import pdb; pdb.set_trace() # Uncomment this line to start the PDB debugger at this point.\n",
    "    return a + b"
   ]
  },
  {
   "cell_type": "code",
   "execution_count": 9,
   "metadata": {},
   "outputs": [],
   "source": [
    "def addTEST(a, b):\n",
    "    '''\n",
    "    This is the test:\n",
    "    >>> assert addTEST(2,2)==8\n",
    "\n",
    "    >>> assert addTEST(10,3)==13\n",
    "    \n",
    "    '''\n",
    "    # Failed assert in doctest = travis pass\n",
    "    # PDB debugger is difficult to get out of. Only enable this if you are sitting with the test\n",
    "    # and able to restart the kernel. The notebook won't proceed if you enable this.\n",
    "    # import pdb; pdb.set_trace() # Uncomment this line to start the PDB debugger at this point.\n",
    "    return a + b\n"
   ]
  },
  {
   "cell_type": "raw",
   "metadata": {},
   "source": [
    "print(add(4, 5))"
   ]
  },
  {
   "cell_type": "raw",
   "metadata": {},
   "source": [
    "# OPTION 1\n",
    "def subtract(a, b):\n",
    "    '''\n",
    "    This is the test:\n",
    "    >>> subtract(10, 2)\n",
    "    8\n",
    "    \n",
    "    >>> subtract(2,10)\n",
    "    -8\n",
    "    '''\n",
    "    # PDB debugger is difficult to get out of. Only enable this if you are sitting with the test\n",
    "    # and able to restart the kernel. The notebook won't proceed if you enable this.\n",
    "    # import pdb; pdb.set_trace() # Uncomment this line to start the PDB debugger at this point.\n",
    "    return a - b"
   ]
  },
  {
   "cell_type": "raw",
   "metadata": {},
   "source": [
    "print(subtract(10,2))"
   ]
  },
  {
   "cell_type": "raw",
   "metadata": {},
   "source": [
    "# KEYBOARD SHORTCUT: Esc + r = disable cell by turning into raw format, Esc + y = turn back to code"
   ]
  },
  {
   "cell_type": "raw",
   "metadata": {},
   "source": [
    "# OPTION 2: add these 2 lines at the end of the notebook\n",
    "import doctest\n",
    "# pytest --doctest-modules --doctest-report none\n",
    "doctest.testmod(verbose=True)\n",
    "# Travis-CI passes even though dectest Fails"
   ]
  },
  {
   "cell_type": "raw",
   "metadata": {},
   "source": [
    "# OPTION 3\n",
    "import unittest\n",
    "\n",
    "class TestNotebook(unittest.TestCase):\n",
    "    \n",
    "    def test_add(self):\n",
    "        self.assertEqual(addTEST(2, 2), 4)"
   ]
  },
  {
   "cell_type": "raw",
   "metadata": {},
   "source": [
    "# raw format for OPTION 3\n",
    "unittest.main(argv=[''], verbosity=2, exit=False)"
   ]
  },
  {
   "cell_type": "raw",
   "metadata": {},
   "source": [
    "assert (addTEST(2,2)==4)"
   ]
  },
  {
   "cell_type": "code",
   "execution_count": null,
   "metadata": {},
   "outputs": [],
   "source": [
    "a = 2\n",
    "b = 2\n",
    "assert (addTEST(a,b)==4),'can add message here'"
   ]
  },
  {
   "cell_type": "code",
   "execution_count": 12,
   "metadata": {},
   "outputs": [
    {
     "ename": "AssertionError",
     "evalue": "",
     "output_type": "error",
     "traceback": [
      "\u001b[1;31m---------------------------------------------------------------------------\u001b[0m",
      "\u001b[1;31mAssertionError\u001b[0m                            Traceback (most recent call last)",
      "\u001b[1;32m<ipython-input-12-68755edd288a>\u001b[0m in \u001b[0;36m<module>\u001b[1;34m()\u001b[0m\n\u001b[0;32m      1\u001b[0m \u001b[0ma\u001b[0m \u001b[1;33m=\u001b[0m \u001b[1;36m2\u001b[0m\u001b[1;33m\u001b[0m\u001b[0m\n\u001b[0;32m      2\u001b[0m \u001b[0mb\u001b[0m \u001b[1;33m=\u001b[0m \u001b[1;36m2\u001b[0m\u001b[1;33m\u001b[0m\u001b[0m\n\u001b[1;32m----> 3\u001b[1;33m \u001b[1;32massert\u001b[0m \u001b[1;33m(\u001b[0m\u001b[0maddTEST\u001b[0m\u001b[1;33m(\u001b[0m\u001b[0ma\u001b[0m\u001b[1;33m,\u001b[0m\u001b[0mb\u001b[0m\u001b[1;33m)\u001b[0m\u001b[1;33m==\u001b[0m\u001b[1;36m8\u001b[0m\u001b[1;33m)\u001b[0m\u001b[1;33m\u001b[0m\u001b[0m\n\u001b[0m",
      "\u001b[1;31mAssertionError\u001b[0m: "
     ]
    }
   ],
   "source": [
    "a = 2\n",
    "b = 2\n",
    "assert (addTEST(a,b)==8)"
   ]
  },
  {
   "cell_type": "code",
   "execution_count": null,
   "metadata": {},
   "outputs": [],
   "source": []
  }
 ],
 "metadata": {
  "kernelspec": {
   "display_name": "Python 3",
   "language": "python",
   "name": "python3"
  },
  "language_info": {
   "codemirror_mode": {
    "name": "ipython",
    "version": 3
   },
   "file_extension": ".py",
   "mimetype": "text/x-python",
   "name": "python",
   "nbconvert_exporter": "python",
   "pygments_lexer": "ipython3",
   "version": "3.6.4"
  }
 },
 "nbformat": 4,
 "nbformat_minor": 2
}

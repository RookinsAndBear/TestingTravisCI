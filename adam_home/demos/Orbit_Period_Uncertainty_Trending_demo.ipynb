{
 "cells": [
  {
   "cell_type": "code",
   "execution_count": 3,
   "metadata": {},
   "outputs": [],
   "source": [
    "''' Orbit Period Uncertainty Trending '''\n",
    "# --------------------------------------------------------------\n",
    "# HEADER PATH/FILE/PACKAGE SETUP\n",
    "# --------------------------------------------------------------\n",
    "import sys, os, math\n",
    "import numpy as np\n",
    "\n",
    "from os.path import expanduser\n",
    "# path to module:\n",
    "# sys.path.append(expanduser(\"~\") + \"/TestingTravisCI/adam_home/MY_functions/\")\n",
    "# set GitHub base path\n",
    "GitHubPath_func = '/home/travis/build/RookinsAndBear/TestingTravisCI/adam_home/MY_functions/'\n",
    "sys.path.append(GitHubPath_func)\n",
    "GitHubPath_e = '/home/travis/build/RookinsAndBear/TestingTravisCI/adam_home/data/ephem/'\n",
    "sys.path.append(GitHubPath_e)\n",
    "# sys.path.append(expanduser(\"~\") + \"/adam_home\")\n",
    "# from adam import adam_config\n",
    "# sys.path.append(adam_config.setPaths.MY_functions_path)\n",
    "\n",
    "from OrbitStatistics import CartCovSymmetricFromCartCovSTK\n",
    "from OrbitStatistics import ComputePeriodCovFromCartCov \n",
    "from ExtractEphemData import dummy_ExtractPosVelCov \n",
    "from ExtractEphemData import odtk_ExtractPosVelCov"
   ]
  },
  {
   "cell_type": "code",
   "execution_count": 4,
   "metadata": {},
   "outputs": [
    {
     "data": {
      "text/plain": [
       "['',\n",
       " 'C:\\\\Users\\\\macuser\\\\Anaconda3\\\\python36.zip',\n",
       " 'C:\\\\Users\\\\macuser\\\\Anaconda3\\\\DLLs',\n",
       " 'C:\\\\Users\\\\macuser\\\\Anaconda3\\\\lib',\n",
       " 'C:\\\\Users\\\\macuser\\\\Anaconda3',\n",
       " 'C:\\\\Users\\\\macuser\\\\AppData\\\\Roaming\\\\Python\\\\Python36\\\\site-packages',\n",
       " 'C:\\\\Users\\\\macuser\\\\Anaconda3\\\\lib\\\\site-packages',\n",
       " 'C:\\\\Users\\\\macuser\\\\Anaconda3\\\\lib\\\\site-packages\\\\win32',\n",
       " 'C:\\\\Users\\\\macuser\\\\Anaconda3\\\\lib\\\\site-packages\\\\win32\\\\lib',\n",
       " 'C:\\\\Users\\\\macuser\\\\Anaconda3\\\\lib\\\\site-packages\\\\Pythonwin',\n",
       " 'C:\\\\Users\\\\macuser\\\\Anaconda3\\\\lib\\\\site-packages\\\\IPython\\\\extensions',\n",
       " 'C:\\\\Users\\\\macuser\\\\.ipython',\n",
       " 'C:\\\\Users\\\\macuser/TestingTravisCI/adam_home/MY_functions/',\n",
       " '/home/travis/build/RookinsAndBear/TestingTravisCI/adam_home/MY_functions',\n",
       " '/home/travis/build/RookinsAndBear/TestingTravisCI/adam_home/data/ephem',\n",
       " 'C:\\\\Users\\\\macuser/adam_home',\n",
       " 'C:\\\\Users\\\\macuser/TestingTravisCI/adam_home/MY_functions/',\n",
       " '/home/travis/build/RookinsAndBear/TestingTravisCI/adam_home/MY_functions',\n",
       " '/home/travis/build/RookinsAndBear/TestingTravisCI/adam_home/data/ephem',\n",
       " 'C:\\\\Users\\\\macuser/adam_home']"
      ]
     },
     "execution_count": 4,
     "metadata": {},
     "output_type": "execute_result"
    }
   ],
   "source": [
    "# sys.path"
   ]
  },
  {
   "cell_type": "code",
   "execution_count": 6,
   "metadata": {
    "scrolled": true
   },
   "outputs": [
    {
     "name": "stdout",
     "output_type": "stream",
     "text": [
      "Period Uncertainty 1-sigma StdDev (sec):  0.41907211073112943\n"
     ]
    }
   ],
   "source": [
    "# --------------------------------------------------------------\n",
    "# USER INPUT AND CONSTANTS - using ODTK.e file format\n",
    "# assuming .e file set 1:1 for time - time is not duplicated as original file is\n",
    "# --------------------------------------------------------------\n",
    "# ephem_file = '/Users/macuser/TestingTravisCI/adam_home/data/ephem/modified_dummy.e'\n",
    "ephem_file = GitHubPath_e + '/modified_dummy.e'\n",
    "# User sets the reference time for analysis (sec) as a string to be read from the ephemeris file\n",
    "#ref_time = '167860'\n",
    "ref_time = '5606'\n",
    "#ref_time = '196'\n",
    "# gravitational param (m^3/sec^2)\n",
    "Gm = 398600.5*1000000000 #Earth\n",
    "\n",
    "values_stk = odtk_ExtractPosVelCov(ephem_file, ref_time)\n",
    "\n",
    "TimePosVel = (\n",
    "                [values_stk[0]],\n",
    "                [values_stk[1], values_stk[2], values_stk[3]],\n",
    "                [values_stk[4], values_stk[5], values_stk[6]]\n",
    "            )\n",
    "\n",
    "CartCov_6x6 = CartCovSymmetricFromCartCovSTK(values_stk)\n",
    "\n",
    "PeriodCov = ComputePeriodCovFromCartCov(TimePosVel[1], TimePosVel[2], CartCov_6x6, Gm)\n",
    "print('Period Uncertainty 1-sigma StdDev (sec): ', math.sqrt(PeriodCov))"
   ]
  },
  {
   "cell_type": "code",
   "execution_count": 7,
   "metadata": {},
   "outputs": [],
   "source": [
    "# --------------------------------------------------------------\n",
    "# USER INPUT AND CONSTANTS - USING dummy.e file format\n",
    "# --------------------------------------------------------------\n",
    "ephem_file = 'dummy_ephem.e'\n",
    "# ephem_file = '/Users/macuser/TestingTravisCI/adam_home/data/ephem/dummy_ephem.e'\n",
    "# User sets the reference time for analysis (sec) as a string to be read from the ephemeris file\n",
    "ref_time = '29808000'\n",
    "# gravitational param (m^3/sec^2)\n",
    "Gm = 398600.5*1000000000"
   ]
  },
  {
   "cell_type": "code",
   "execution_count": 10,
   "metadata": {},
   "outputs": [],
   "source": [
    "# read ephem file\n",
    "# values_stk = dummy_ExtractPosVelCov(adam_config.setPaths.ephem_path + ephem_file, ref_time)\n",
    "values_stk = dummy_ExtractPosVelCov(GitHubPath_e + ephem_file, ref_time)\n",
    "# values_stk = dummy_ExtractPosVelCov(ephem_file, ref_time)\n",
    "\n",
    "TimePosVel = (\n",
    "                [values_stk[0]],\n",
    "                [values_stk[1], values_stk[2], values_stk[3]],\n",
    "                [values_stk[4], values_stk[5], values_stk[6]]\n",
    "            )"
   ]
  },
  {
   "cell_type": "code",
   "execution_count": 11,
   "metadata": {},
   "outputs": [],
   "source": [
    "CartCov_6x6 = CartCovSymmetricFromCartCovSTK(values_stk)"
   ]
  },
  {
   "cell_type": "code",
   "execution_count": 12,
   "metadata": {},
   "outputs": [
    {
     "name": "stdout",
     "output_type": "stream",
     "text": [
      "Period Uncertainty 1-sigma StdDev (sec):  7.167808316507894\n"
     ]
    }
   ],
   "source": [
    "PeriodCov = ComputePeriodCovFromCartCov(TimePosVel[1], TimePosVel[2], CartCov_6x6, Gm)\n",
    "print('Period Uncertainty 1-sigma StdDev (sec): ', math.sqrt(PeriodCov))"
   ]
  },
  {
   "cell_type": "code",
   "execution_count": 13,
   "metadata": {
    "scrolled": true
   },
   "outputs": [],
   "source": [
    "# Testing and Debugging Options"
   ]
  },
  {
   "cell_type": "code",
   "execution_count": 28,
   "metadata": {},
   "outputs": [],
   "source": [
    "# OPTION 1\n",
    "def add(a, b):\n",
    "    '''\n",
    "    This is the test:\n",
    "    >>> add(2, 2)\n",
    "    5\n",
    "    '''\n",
    "    # PDB debugger is difficult to get out of. Only enable this if you are sitting with the test\n",
    "    # and able to restart the kernel. The notebook won't proceed if you enable this.\n",
    "    # import pdb; pdb.set_trace() # Uncomment this line to start the PDB debugger at this point.\n",
    "    return a + b"
   ]
  },
  {
   "cell_type": "code",
   "execution_count": 29,
   "metadata": {},
   "outputs": [
    {
     "name": "stdout",
     "output_type": "stream",
     "text": [
      "9\n"
     ]
    }
   ],
   "source": [
    "print(add(4, 5))"
   ]
  },
  {
   "cell_type": "code",
   "execution_count": 30,
   "metadata": {},
   "outputs": [],
   "source": [
    "# OPTION 1\n",
    "def subtract(a, b):\n",
    "    '''\n",
    "    This is the test:\n",
    "    >>> subtract(10, 2)\n",
    "    8\n",
    "    \n",
    "    >>> subtract(2,10)\n",
    "    -8\n",
    "    '''\n",
    "    # PDB debugger is difficult to get out of. Only enable this if you are sitting with the test\n",
    "    # and able to restart the kernel. The notebook won't proceed if you enable this.\n",
    "    # import pdb; pdb.set_trace() # Uncomment this line to start the PDB debugger at this point.\n",
    "    return a - b"
   ]
  },
  {
   "cell_type": "code",
   "execution_count": 31,
   "metadata": {},
   "outputs": [
    {
     "name": "stdout",
     "output_type": "stream",
     "text": [
      "8\n"
     ]
    }
   ],
   "source": [
    "print(subtract(10,2))"
   ]
  },
  {
   "cell_type": "code",
   "execution_count": 32,
   "metadata": {},
   "outputs": [],
   "source": [
    "# KEYBOARD SHORTCUT: Esc + r = disable cell by turning into raw format, Esc + y = turn back to code"
   ]
  },
  {
   "cell_type": "code",
   "execution_count": 33,
   "metadata": {},
   "outputs": [
    {
     "name": "stdout",
     "output_type": "stream",
     "text": [
      "Trying:\n",
      "    add(2, 2)\n",
      "Expecting:\n",
      "    5\n",
      "**********************************************************************\n",
      "File \"__main__\", line 5, in __main__.add\n",
      "Failed example:\n",
      "    add(2, 2)\n",
      "Expected:\n",
      "    5\n",
      "Got:\n",
      "    4\n",
      "Trying:\n",
      "    subtract(10, 2)\n",
      "Expecting:\n",
      "    8\n",
      "ok\n",
      "Trying:\n",
      "    subtract(2,10)\n",
      "Expecting:\n",
      "    -8\n",
      "ok\n",
      "3 items had no tests:\n",
      "    __main__\n",
      "    __main__.TestNotebook\n",
      "    __main__.TestNotebook.test_add\n",
      "1 items passed all tests:\n",
      "   2 tests in __main__.subtract\n",
      "**********************************************************************\n",
      "1 items had failures:\n",
      "   1 of   1 in __main__.add\n",
      "3 tests in 5 items.\n",
      "2 passed and 1 failed.\n",
      "***Test Failed*** 1 failures.\n"
     ]
    },
    {
     "data": {
      "text/plain": [
       "TestResults(failed=1, attempted=3)"
      ]
     },
     "execution_count": 33,
     "metadata": {},
     "output_type": "execute_result"
    }
   ],
   "source": [
    "# OPTION 2: add these 2 lines at the end of the notebook\n",
    "import doctest\n",
    "doctest.testmod(verbose=True)\n",
    "# Travis-CI passes even though dectest Fails"
   ]
  },
  {
   "cell_type": "code",
   "execution_count": 36,
   "metadata": {},
   "outputs": [],
   "source": [
    "# OPTION 3\n",
    "import unittest\n",
    "\n",
    "class TestNotebook(unittest.TestCase):\n",
    "    \n",
    "    def test_add(self):\n",
    "        self.assertEqual(add(2, 2), 5)"
   ]
  },
  {
   "cell_type": "code",
   "execution_count": 37,
   "metadata": {},
   "outputs": [
    {
     "name": "stderr",
     "output_type": "stream",
     "text": [
      "test_add (__main__.TestNotebook) ... FAIL\n",
      "\n",
      "======================================================================\n",
      "FAIL: test_add (__main__.TestNotebook)\n",
      "----------------------------------------------------------------------\n",
      "Traceback (most recent call last):\n",
      "  File \"<ipython-input-36-9d7e97e9c4e8>\", line 7, in test_add\n",
      "    self.assertEqual(add(2, 2), 5)\n",
      "AssertionError: 4 != 5\n",
      "\n",
      "----------------------------------------------------------------------\n",
      "Ran 1 test in 0.000s\n",
      "\n",
      "FAILED (failures=1)\n"
     ]
    },
    {
     "data": {
      "text/plain": [
       "<unittest.main.TestProgram at 0x1bbdd83ab70>"
      ]
     },
     "execution_count": 37,
     "metadata": {},
     "output_type": "execute_result"
    }
   ],
   "source": [
    "# raw format for OPTION 3\n",
    "unittest.main(argv=[''], verbosity=2, exit=False)"
   ]
  },
  {
   "cell_type": "code",
   "execution_count": null,
   "metadata": {},
   "outputs": [],
   "source": []
  }
 ],
 "metadata": {
  "kernelspec": {
   "display_name": "Python 3",
   "language": "python",
   "name": "python3"
  },
  "language_info": {
   "codemirror_mode": {
    "name": "ipython",
    "version": 3
   },
   "file_extension": ".py",
   "mimetype": "text/x-python",
   "name": "python",
   "nbconvert_exporter": "python",
   "pygments_lexer": "ipython3",
   "version": "3.6.4"
  }
 },
 "nbformat": 4,
 "nbformat_minor": 2
}

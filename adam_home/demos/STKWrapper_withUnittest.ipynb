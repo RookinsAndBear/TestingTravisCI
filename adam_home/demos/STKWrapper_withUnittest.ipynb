{
 "cells": [
  {
   "cell_type": "markdown",
   "metadata": {},
   "source": [
    "**File Name:** KariScience_withSTKWrapper.ipynb<br>\n",
    "**Purpose:** Test capability to bypass STK when running Travis-CI<br>\n",
    "**Author:** Emmie King (Emmie@SEE.com)<br>\n",
    "**Project:** B612 - Asteroid Institute<br>\n",
    "**NDA/ITAR:** None<br>\n",
    "**Input:** Summary_Report.csv from KARI_ScienceOrbit.ipynb STK jupyter notebook<br>\n",
    " - LAN (deg)  \n",
    " - Number Maneuvers  \n",
    " - Total Delta V (m/s)  \n",
    " - Mean Delta V (m/s)\n",
    " - Standard Deviation (m/s)\n",
    "\n",
    "**Output:** None <br>\n",
    "**Notes:** Travis-CI is run on a Linux platfrom. STK requires Windows and a license for the virtual environment. <br>\n",
    "We are running STK and saving the output into a Summary_Report.csv file. We are testing the csv file on Windows<br>\n",
    "and with Travis-CI.\n"
   ]
  },
  {
   "cell_type": "code",
   "execution_count": 1,
   "metadata": {},
   "outputs": [],
   "source": [
    "import sys, os\n",
    "from os.path import expanduser\n",
    "import platform\n",
    "import psutil\n",
    "import pandas\n",
    "import doctest"
   ]
  },
  {
   "cell_type": "code",
   "execution_count": 2,
   "metadata": {},
   "outputs": [],
   "source": [
    "STKdata_folder = '\\\\KARI_withSTKwrapper_2019_03_06\\\\Summary_Report.csv'"
   ]
  },
  {
   "cell_type": "code",
   "execution_count": 25,
   "metadata": {},
   "outputs": [
    {
     "name": "stdout",
     "output_type": "stream",
     "text": [
      "Root directory path:  C:\\Users\\macuser\\TestingTravisCI\\adam_home\n",
      "Changing adam home path to =  C:\\Users\\macuser\\TestingTravisCI\\adam_home\n",
      "C:\\Users\\macuser\\TestingTravisCI\\adam_home/data\\KARI_withSTKwrapper_2019_03_06\\Summary_Report.csv\n",
      "LOCAL\n",
      "file exists?,  True\n"
     ]
    }
   ],
   "source": [
    "try:\n",
    "    sys.path.insert(0, os.path.abspath('..')) #Works for local\n",
    "    print(\"Root directory path: \", os.path.abspath('..'))\n",
    "    from adam import adam_config\n",
    "    ADAMpaths = adam_config.setPaths.initPaths(os.path.abspath('..'))\n",
    "    csvPath = ADAMpaths[1] + STKdata_folder\n",
    "    #csvPath = 'C:\\\\Users\\\\macuser\\\\TestingTravisCI\\\\adam_home\\\\data\\\\KARI_withSTKwrapper_2019_03_06\\\\Summary_Report.csv'\n",
    "    print(csvPath)\n",
    "    print(\"LOCAL\")\n",
    "    csvExists = os.path.exists(csvPath) == 1\n",
    "    print(\"file exists?, \", csvExists)\n",
    "    #    return True\n",
    "    #else:\n",
    "    #    return False\n",
    "except:\n",
    "    sys.path.insert(0, os.path.abspath('.')) #Works for Travis CI\n",
    "    print(\"Root directory path: \", os.path.abspath('.'))\n",
    "    from adam import adam_configr \n",
    "    ADAMpaths = adam_config.setPaths.initPaths(os.path.abspath('.'))\n",
    "    csvPath = ADAMpaths[1] + STKdata_folder\n",
    "    print(csvPath)\n",
    "    print(\"REMOTE\")\n",
    "    #if os.path.exists(csvPath) == 1:\n",
    "    #    return True\n",
    "    #else:\n",
    "    #    return False        "
   ]
  },
  {
   "cell_type": "code",
   "execution_count": 85,
   "metadata": {},
   "outputs": [],
   "source": [
    "def csvExist(csvPath):\n",
    "    '''\n",
    "    This is the test:\n",
    "    >>> assert csvExist(csvPath)==True\n",
    "    '''\n",
    "\n",
    "    return os.path.exists(csvPath) == 1"
   ]
  },
  {
   "cell_type": "code",
   "execution_count": 86,
   "metadata": {},
   "outputs": [],
   "source": [
    "\n",
    "#    >>> print (csvPath)\n",
    "#>>> assert csvExist('C:\\\\Users\\\\macuser\\TestingTravisCI\\adam_home/data\\KARI_withSTKwrapper_2019_03_06\\Summary_Report.csv')==True"
   ]
  },
  {
   "cell_type": "code",
   "execution_count": 87,
   "metadata": {},
   "outputs": [
    {
     "name": "stdout",
     "output_type": "stream",
     "text": [
      "C:\\Users\\macuser\\TestingTravisCI\\adam_home/data\\KARI_withSTKwrapper_2019_03_06\\Summary_Report.csv\n"
     ]
    },
    {
     "data": {
      "text/plain": [
       "True"
      ]
     },
     "execution_count": 87,
     "metadata": {},
     "output_type": "execute_result"
    }
   ],
   "source": [
    "print(csvPath)\n",
    "os.path.exists(csvPath) == 1"
   ]
  },
  {
   "cell_type": "code",
   "execution_count": 88,
   "metadata": {},
   "outputs": [
    {
     "data": {
      "text/plain": [
       "True"
      ]
     },
     "execution_count": 88,
     "metadata": {},
     "output_type": "execute_result"
    }
   ],
   "source": [
    "csvExist(csvPath)"
   ]
  },
  {
   "cell_type": "code",
   "execution_count": 89,
   "metadata": {},
   "outputs": [],
   "source": [
    "# Continuous Integration Preference - use doctest instead of unittest since error test looks for unique string \"***Test FAILED***\"\n",
    "def addTEST(a, b):\n",
    "    '''\n",
    "    This is the test:\n",
    "    >>> assert addTEST(2,2)==4\n",
    "\n",
    "    >>> assert addTEST(-10,3)==-7\n",
    "    \n",
    "    >>> assert addTEST(-3,-9)==-12\n",
    "    \n",
    "    '''\n",
    "    return a + b"
   ]
  },
  {
   "cell_type": "code",
   "execution_count": 90,
   "metadata": {},
   "outputs": [
    {
     "name": "stdout",
     "output_type": "stream",
     "text": [
      "Trying:\n",
      "    assert addTEST(2,2)==4\n",
      "Expecting nothing\n",
      "ok\n",
      "Trying:\n",
      "    assert addTEST(-10,3)==-7\n",
      "Expecting nothing\n",
      "ok\n",
      "Trying:\n",
      "    assert addTEST(-3,-9)==-12\n",
      "Expecting nothing\n",
      "ok\n",
      "Trying:\n",
      "    assert csvExist(csvPath)==True\n",
      "Expecting nothing\n",
      "ok\n",
      "1 items had no tests:\n",
      "    __main__\n",
      "2 items passed all tests:\n",
      "   3 tests in __main__.addTEST\n",
      "   1 tests in __main__.csvExist\n",
      "4 tests in 3 items.\n",
      "4 passed and 0 failed.\n",
      "Test passed.\n"
     ]
    },
    {
     "data": {
      "text/plain": [
       "TestResults(failed=0, attempted=4)"
      ]
     },
     "execution_count": 90,
     "metadata": {},
     "output_type": "execute_result"
    }
   ],
   "source": [
    "# add these 2 lines at the end of the notebook\n",
    "import doctest\n",
    "# pytest --doctest-modules --doctest-report none\n",
    "doctest.testmod(verbose=True)"
   ]
  },
  {
   "cell_type": "raw",
   "metadata": {},
   "source": [
    "#Try unittest instead of docstring\n",
    "import unittest\n",
    "\n",
    "class TestNotebook(unittest.TestCase):\n",
    "    \n",
    "    def test_add(self):\n",
    "        a = 2\n",
    "        b = 2\n",
    "        c = 6\n",
    "        d = 4\n",
    "        err_str = '***Test Failed*** {} + {} does not equal {}'.format(a,b,c)\n",
    "        self.assertEqual(addTEST(a, b), d, err_str) #PASS\n",
    "        #self.assertEqual(addTEST(a, b), c, err_str) #FAIL\n",
    "        \n",
    "    def test_csvExist(self, csv_path):\n",
    "        #LOCAL\n",
    "        csv_path = 'C:\\\\Users\\\\macuser\\\\TestingTravisCI\\\\adam_home\\\\data\\\\KARI_withSTKwrapper_2019_03_06\\\\Summary_Report.csv'\n",
    "    #    if os.path.exists(csv_path) == 1:\n",
    "        err_str = '***Test Failed*** {} does not exist'.format(csv_path)\n",
    "        self.assertTrue(setPaths(csv_path), True, err_str)\n",
    "        # self.assertEqual(addTEST(a, b), c, err_str)"
   ]
  },
  {
   "cell_type": "raw",
   "metadata": {},
   "source": [
    "unittest.main(argv=[''], verbosity=2, exit=False)"
   ]
  },
  {
   "cell_type": "code",
   "execution_count": null,
   "metadata": {},
   "outputs": [],
   "source": []
  }
 ],
 "metadata": {
  "kernelspec": {
   "display_name": "Python 3",
   "language": "python",
   "name": "python3"
  },
  "language_info": {
   "codemirror_mode": {
    "name": "ipython",
    "version": 3
   },
   "file_extension": ".py",
   "mimetype": "text/x-python",
   "name": "python",
   "nbconvert_exporter": "python",
   "pygments_lexer": "ipython3",
   "version": "3.7.1"
  }
 },
 "nbformat": 4,
 "nbformat_minor": 2
}

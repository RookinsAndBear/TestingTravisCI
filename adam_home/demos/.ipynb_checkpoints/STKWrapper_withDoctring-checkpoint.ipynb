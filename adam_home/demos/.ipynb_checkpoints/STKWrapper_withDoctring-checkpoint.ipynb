{
 "cells": [
  {
   "cell_type": "markdown",
   "metadata": {},
   "source": [
    "**File Name:** KariScience_withSTKWrapper.ipynb<br>\n",
    "**Purpose:** Test capability to bypass STK when running Travis-CI<br>\n",
    "**Author:** Emmie King (Emmie@SEE.com)<br>\n",
    "**Project:** B612 - Asteroid Institute<br>\n",
    "**NDA/ITAR:** None<br>\n",
    "**Input:** Summary_Report.csv from KARI_ScienceOrbit.ipynb STK jupyter notebook<br>\n",
    " - LAN (deg)  \n",
    " - Number Maneuvers  \n",
    " - Total Delta V (m/s)  \n",
    " - Mean Delta V (m/s)\n",
    " - Standard Deviation (m/s)\n",
    "\n",
    "**Output:** None <br>\n",
    "**Notes:** Travis-CI is run on a Linux platfrom. STK requires Windows and a license for the virtual environment. <br>\n",
    "We are running STK and saving the output into a Summary_Report.csv file. We are testing the csv file on Windows<br>\n",
    "and with Travis-CI.\n"
   ]
  },
  {
   "cell_type": "code",
   "execution_count": 1,
   "metadata": {},
   "outputs": [],
   "source": [
    "import sys, os\n",
    "from os.path import expanduser\n",
    "import platform\n",
    "import psutil\n",
    "import pandas\n",
    "import doctest"
   ]
  },
  {
   "cell_type": "code",
   "execution_count": 2,
   "metadata": {},
   "outputs": [
    {
     "name": "stdout",
     "output_type": "stream",
     "text": [
      "C:\\Users\\macuser\\TestingTravisCI\\adam_home\n",
      "Changing adam home path to =  C:\\Users\\macuser\\TestingTravisCI\\adam_home\n",
      "C:\\Users\\macuser\\TestingTravisCI\\adam_home/data\n",
      "TRY\n"
     ]
    }
   ],
   "source": [
    "try:\n",
    "    sys.path.insert(0, os.path.abspath('..')) #Works for local\n",
    "    print(os.path.abspath('..'))\n",
    "    from adam import adam_config\n",
    "    ADAMpaths = adam_config.setPaths.initPaths(os.path.abspath('..'))\n",
    "    STKdata_folder = '/KARI_withSTKwrapper_2019_03_06/Summary_Report.csv'\n",
    "    print(ADAMpaths[1])\n",
    "    print(\"TRY\")\n",
    "except:\n",
    "    sys.path.insert(0, os.path.abspath('.')) #Works for Travis CI\n",
    "    print(os.path.abspath('.'))\n",
    "    from adam import adam_configr \n",
    "    ADAMpaths = adam_config.setPaths.initPaths(os.path.abspath('.'))\n",
    "    STKdata_folder = '/KARI_withSTKwrapper_2019_03_06/Summary_Report.csv'\n",
    "    print(ADAMpaths[1])\n",
    "    print(\"EXCEPT\")"
   ]
  },
  {
   "cell_type": "code",
   "execution_count": null,
   "metadata": {},
   "outputs": [],
   "source": [
    "#Try unittest instead of docstring"
   ]
  },
  {
   "cell_type": "code",
   "execution_count": 38,
   "metadata": {},
   "outputs": [
    {
     "name": "stdout",
     "output_type": "stream",
     "text": [
      "Trying:\n",
      "    assert equalCSV_test('C:\\Users\\macuser\\TestingTravisCI\\adam_home/data','/KARI_withSTKwrapper_2019_03_06/Summary_Report.csv')==\"True\"\n",
      "Expecting nothing\n",
      "**********************************************************************\n",
      "File \"__main__\", line 6, in __main__.equalCSV_test\n",
      "Failed example:\n",
      "    assert equalCSV_test('C:\\Users\\macuser\\TestingTravisCI\\adam_home/data','/KARI_withSTKwrapper_2019_03_06/Summary_Report.csv')==\"True\"\n",
      "Exception raised:\n",
      "    Traceback (most recent call last):\n",
      "      File \"C:\\Users\\macuser\\Anaconda3\\lib\\doctest.py\", line 1329, in __run\n",
      "        compileflags, 1), test.globs)\n",
      "      File \"<doctest __main__.equalCSV_test[0]>\", line 1\n",
      "    SyntaxError: (unicode error) 'unicodeescape' codec can't decode bytes in position 2-3: truncated \\UXXXXXXXX escape\n",
      "1 items had no tests:\n",
      "    __main__\n",
      "**********************************************************************\n",
      "1 items had failures:\n",
      "   1 of   1 in __main__.equalCSV_test\n",
      "1 tests in 2 items.\n",
      "0 passed and 1 failed.\n",
      "***Test Failed*** 1 failures.\n"
     ]
    },
    {
     "data": {
      "text/plain": [
       "TestResults(failed=1, attempted=1)"
      ]
     },
     "execution_count": 38,
     "metadata": {},
     "output_type": "execute_result"
    }
   ],
   "source": [
    "# add this line at the end of the notebook\n",
    "doctest.testmod(verbose=True)"
   ]
  },
  {
   "cell_type": "raw",
   "metadata": {
    "scrolled": true
   },
   "source": [
    "# Continuous Integration Preference - use doctest instead of unittest since error test looks for unique string \"***Test FAILED***\"\n",
    "def equalCSV_test(ADAMpaths, STKdata_folder):\n",
    "    #'''\n",
    "    #This is the test:\n",
    "    #>>> assert \"equalCSV_test\" == \"equalCSV_test\"\n",
    "    #>>> assert equalCSV_test('C:\\\\Users\\\\macuser\\\\TestingTravisCI\\\\adam_home/data','/KARI_withSTKwrapper_2019_03_06/Summary_Report.csv')==\"True\"\n",
    "    #'''\n",
    "    #data_path = ADAMpaths + STKdata_folder\n",
    "    #asciistring = data_path.encode('ascii')\n",
    "    #print(asciistring)\n",
    "    #data_1 = pandas.read_csv(asciistring)\n",
    "    #data_2 = pandas.read_csv(asciistring)\n",
    "    ##asciiPath = ascii(ADAMpaths)\n",
    "    #print(asciiPath)\n",
    "    ##asciiFile = ascii(STKdata_folder)\n",
    "    #print(asciiFile)\n",
    "    #print(asciiPath + asciiFile)\n",
    "\n",
    "    ##asciiPath = asciiPath.replace(\"'\", \"\")\n",
    "    ##asciiFile = asciiFile.replace(\"'\", \"\")\n",
    "    #print(asciiPath + asciiFile)\n",
    "    print(ADAMpaths + STKdata_folder)\n",
    "    data_1 = pandas.read_csv(ADAMpaths + STKdata_folder)\n",
    "    data_2 = pandas.read_csv(ADAMpaths + STKdata_folder)\n",
    "    ##data_1 = pandas.read_csv(asciiPath + asciiFile)\n",
    "    ##data_2 = pandas.read_csv(asciiPath + asciiFile)\n",
    "    #if len(data)==0:\n",
    "    #    status = 'File read UNsuccessful'\n",
    "    #else:\n",
    "    #    status = 'File read successful'\n",
    "    return pandas.DataFrame.equals(data_1, data_2)"
   ]
  },
  {
   "cell_type": "raw",
   "metadata": {},
   "source": [
    "asciiPath = ascii(ADAMpaths[1])\n",
    "#print(asciiPath)\n",
    "asciiFile = ascii(STKdata_folder)\n",
    "#print(asciiFile)\n",
    "#print(asciiPath + asciiFile)\n",
    "\n",
    "asciiPath = asciiPath.replace(\"'\", \"\")\n",
    "#asciiPath = asciiPath.replace('\\', '\\\\\\\\')\n",
    "                              \n",
    "asciiFile = asciiFile.replace(\"'\", \"\")\n",
    "#asciiFile = asciiFile.replace('\\', '\\\\\\\\')                        \n",
    "#print(asciiPath + asciiFile)\n",
    "#equalCSV_test(ADAMpaths[1], STKdata_folder)\n",
    "import re\n",
    "print(re.escape(ADAMpaths[1]))\n",
    "print(re.escape(ADAMpaths[1]) + STKdata_folder)\n",
    "equalCSV_test(re.escape(ADAMpaths[1]), STKdata_folder)"
   ]
  },
  {
   "cell_type": "raw",
   "metadata": {},
   "source": [
    "# Continuous Integration Preference - use doctest instead of unittest since error test looks for unique string \"***Test FAILED***\"\n",
    "def matchCSVheader_test(ADAMpaths, STKdata_folder):\n",
    "    #'''\n",
    "    #This is the test:\n",
    "    #>>> assert \"matchCSVheader_test\" == \"matchCSVheader_test\"\n",
    "    #>>> assert matchCSVheader_test('C:\\\\Users\\\\macuser\\\\TestingTravisCI\\\\adam_home/data','/KARI_withSTKwrapper_2019_03_06/Summary_Report.csv')==\"LAN (deg)\"\n",
    "    #'''\n",
    "    \n",
    "    df = pandas.read_csv(ADAMpaths + STKdata_folder)\n",
    "    #print(df.columns)\n",
    "    #print(df.columns[0])\n",
    "    return df.columns[1]\n"
   ]
  },
  {
   "cell_type": "code",
   "execution_count": null,
   "metadata": {},
   "outputs": [],
   "source": [
    "matchCSVheader_test(ADAMpaths[1], STKdata_folder)"
   ]
  },
  {
   "cell_type": "raw",
   "metadata": {},
   "source": [
    "# Continuous Integration Preference - use doctest instead of unittest since error test looks for unique string \"***Test FAILED***\"\n",
    "def addTEST(a, b):\n",
    "    '''\n",
    "    This is the test:\n",
    "    >>> assert addTEST(2,2)==4\n",
    "\n",
    "    >>> assert addTEST(10,3)==13\n",
    "    \n",
    "    '''\n",
    "    # >>> assert addTEST(2,2)==8\n",
    "    # Failed assert in doctest = travis pass\n",
    "    # PDB debugger is difficult to get out of. Only enable this if you are sitting with the test\n",
    "    # and able to restart the kernel. The notebook won't proceed if you enable this.\n",
    "    # import pdb; pdb.set_trace() # Uncomment this line to start the PDB debugger at this point.\n",
    "    return a + b"
   ]
  },
  {
   "cell_type": "raw",
   "metadata": {},
   "source": [
    "#--------------------------------------------\n",
    "# Path Directory from adam_config.json\n",
    "#--------------------------------------------\n",
    "\n",
    "#print('Path to ADAM package ' + ADAMpaths[0])\n",
    "\n",
    "#print('Path to data directory ' + ADAMpaths[1])\n",
    "\n",
    "#print('Path to environment and path template file ' + ADAMpaths[2])\n",
    "\n",
    "STKdata_folder = '/KARI_withSTKwrapper_2019_03_06/Summary_Report.csv'\n",
    "print('Path to STK Summary_Report_csv file, generated with KARI_ScienceOrbit 100km-75x75.ipynb = ' + ADAMpaths[1] + STKdata_folder)\n",
    "\n",
    "#--------------------------------------------\n",
    "# User add file name for generated data files\n",
    "#user_folder_name = 'demo_ephem'\n",
    "#--------------------------------------------"
   ]
  },
  {
   "cell_type": "raw",
   "metadata": {},
   "source": [
    "os.getcwd()"
   ]
  },
  {
   "cell_type": "raw",
   "metadata": {},
   "source": [
    "cd .."
   ]
  },
  {
   "cell_type": "raw",
   "metadata": {},
   "source": [
    "cd data/KARI_withSTKwrapper_2019_03_06"
   ]
  },
  {
   "cell_type": "raw",
   "metadata": {},
   "source": [
    "STK_out_file_local = os.getcwd() + '\\Summary_Report.csv'\n",
    "print(STK_out_file_local)"
   ]
  },
  {
   "cell_type": "raw",
   "metadata": {},
   "source": [
    "#set data directory\n",
    "STK_out_file_remote =  ADAMpaths[1] + STKdata_folder\n",
    "print(STK_out_file_remote)\n",
    "#STK_out_file_remote = '/home/travis/build/RookinsAndBear/TestingTravisCI/adam_home/data/KARI_withSTKwrapper_2019_03_06/Summary_Report.csv'"
   ]
  },
  {
   "cell_type": "raw",
   "metadata": {},
   "source": [
    "#if platform.system() == 'Windows':\n",
    "#    print(\"STK compatible Operating System\")\n",
    "#    print(\"Notebook can Continue\")\n",
    "#    %run ./example.ipynb\n",
    "#    %run ./KARI_ScienceOrbit.ipynb #Not uploaded to Repo since Travis says we are running Linux\n",
    "#    #%store summaryReportDF, p \n",
    "#    STK_pid = p\n",
    "#    processSTK = psutil.Process(STK_pid)\n",
    "#    processSTK.kill()\n",
    "#else:\n",
    "print(\"STK incompatible with Operating System\")\n",
    "print(\"Bypass output for Travis-CI and load in STK Summary file\")\n",
    "    # Load csv file generated from Windows STK file (KARI_ScienceOrbit.ipynb)\n",
    "STK_summary = pandas.read_csv(STK_out_file_remote)\n",
    "print(STK_summary)\n",
    "    #Restore saved information after kernel restart and cell output are cleared\n",
    "    #%store -r summaryReportDF\n",
    "    #print(summaryReportDF)\n"
   ]
  },
  {
   "cell_type": "code",
   "execution_count": null,
   "metadata": {},
   "outputs": [],
   "source": [
    "#Restore saved information after kernel restart and cell output are cleared\n",
    "#%store -r summaryReportDF\n",
    "#print(summaryReportDF)"
   ]
  },
  {
   "cell_type": "code",
   "execution_count": null,
   "metadata": {},
   "outputs": [],
   "source": []
  }
 ],
 "metadata": {
  "kernelspec": {
   "display_name": "Python 3",
   "language": "python",
   "name": "python3"
  },
  "language_info": {
   "codemirror_mode": {
    "name": "ipython",
    "version": 3
   },
   "file_extension": ".py",
   "mimetype": "text/x-python",
   "name": "python",
   "nbconvert_exporter": "python",
   "pygments_lexer": "ipython3",
   "version": "3.7.1"
  }
 },
 "nbformat": 4,
 "nbformat_minor": 2
}

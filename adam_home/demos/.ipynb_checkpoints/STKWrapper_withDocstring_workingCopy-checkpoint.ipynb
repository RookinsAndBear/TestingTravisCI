{
 "cells": [
  {
   "cell_type": "markdown",
   "metadata": {},
   "source": [
    "**File Name:** KariScience_withSTKWrapper.ipynb<br>\n",
    "**Purpose:** Test capability to bypass STK when running Travis-CI<br>\n",
    "**Author:** Emmie King (Emmie@SEE.com)<br>\n",
    "**Project:** B612 - Asteroid Institute<br>\n",
    "**NDA/ITAR:** None<br>\n",
    "**Input:** Summary_Report.csv from KARI_ScienceOrbit.ipynb STK jupyter notebook<br>\n",
    " - LAN (deg)  \n",
    " - Number Maneuvers  \n",
    " - Total Delta V (m/s)  \n",
    " - Mean Delta V (m/s)\n",
    " - Standard Deviation (m/s)\n",
    "\n",
    "**Output:** None <br>\n",
    "**Notes:** Travis-CI is run on a Linux platfrom. STK requires Windows and a license for the virtual environment. <br>\n",
    "We are running STK and saving the output into a Summary_Report.csv file. We are testing the csv file on Windows<br>\n",
    "and with Travis-CI.\n"
   ]
  },
  {
   "cell_type": "code",
   "execution_count": 1,
   "metadata": {},
   "outputs": [],
   "source": [
    "import sys, os\n",
    "from os.path import expanduser\n",
    "import platform\n",
    "import psutil\n",
    "import pandas\n",
    "import doctest"
   ]
  },
  {
   "cell_type": "code",
   "execution_count": 2,
   "metadata": {},
   "outputs": [],
   "source": [
    "#Folder and File name relative to adam_home/data/\n",
    "STKdata_folder = '\\\\KARI_withSTKwrapper_2019_03_06\\\\Summary_Report.csv'"
   ]
  },
  {
   "cell_type": "code",
   "execution_count": 3,
   "metadata": {},
   "outputs": [
    {
     "name": "stdout",
     "output_type": "stream",
     "text": [
      "Changing adam home path to =  C:\\Users\\macuser\\TestingTravisCI\\adam_home\n"
     ]
    }
   ],
   "source": [
    "try:\n",
    "    sys.path.insert(0, os.path.abspath('..')) #Works for local\n",
    "    #print(\"Root directory path: \", os.path.abspath('..'))\n",
    "    from adam import adam_config\n",
    "    ADAMpaths = adam_config.setPaths.initPaths(os.path.abspath('..'))\n",
    "    csvPath = ADAMpaths[1] + STKdata_folder\n",
    "    #print(\"LOCAL\")\n",
    "except:\n",
    "    sys.path.insert(0, os.path.abspath('.')) #Works for Travis CI\n",
    "    #print(\"Root directory path: \", os.path.abspath('.'))\n",
    "    from adam import adam_configr \n",
    "    ADAMpaths = adam_config.setPaths.initPaths(os.path.abspath('.'))\n",
    "    csvPath = ADAMpaths[1] + STKdata_folder\n",
    "    #print(\"REMOTE\")    "
   ]
  },
  {
   "cell_type": "markdown",
   "metadata": {},
   "source": [
    "**Method Testing** The following cells should only be run if you are testing the previous cells for errors.<br>"
   ]
  },
  {
   "cell_type": "code",
   "execution_count": 6,
   "metadata": {},
   "outputs": [],
   "source": [
    "def csvExist(csvPath):\n",
    "    '''\n",
    "    This is the test:\n",
    "    >>> assert csvExist(csvPath)==True\n",
    "    '''\n",
    "\n",
    "    return os.path.exists(csvPath) == 1"
   ]
  },
  {
   "cell_type": "code",
   "execution_count": 7,
   "metadata": {},
   "outputs": [
    {
     "name": "stdout",
     "output_type": "stream",
     "text": [
      "Trying:\n",
      "    assert csvExist(csvPath)==True\n",
      "Expecting nothing\n",
      "ok\n",
      "Trying:\n",
      "    assert csvExist(csvPath)==False\n",
      "Expecting nothing\n",
      "**********************************************************************\n",
      "File \"__main__\", line 6, in __main__.csvExist\n",
      "Failed example:\n",
      "    assert csvExist(csvPath)==False\n",
      "Exception raised:\n",
      "    Traceback (most recent call last):\n",
      "      File \"C:\\Users\\macuser\\Anaconda3\\lib\\doctest.py\", line 1329, in __run\n",
      "        compileflags, 1), test.globs)\n",
      "      File \"<doctest __main__.csvExist[1]>\", line 1, in <module>\n",
      "        assert csvExist(csvPath)==False\n",
      "    AssertionError\n",
      "1 items had no tests:\n",
      "    __main__\n",
      "**********************************************************************\n",
      "1 items had failures:\n",
      "   1 of   2 in __main__.csvExist\n",
      "2 tests in 2 items.\n",
      "1 passed and 1 failed.\n",
      "***Test Failed*** 1 failures.\n"
     ]
    },
    {
     "data": {
      "text/plain": [
       "TestResults(failed=1, attempted=2)"
      ]
     },
     "execution_count": 7,
     "metadata": {},
     "output_type": "execute_result"
    }
   ],
   "source": [
    "# add this line at the end of the notebook\n",
    "doctest.testmod(verbose=True)"
   ]
  },
  {
   "cell_type": "code",
   "execution_count": null,
   "metadata": {},
   "outputs": [],
   "source": [
    "#Restore saved information after kernel restart and cell output are cleared\n",
    "#%store -r summaryReportDF\n",
    "#print(summaryReportDF)"
   ]
  }
 ],
 "metadata": {
  "kernelspec": {
   "display_name": "Python 3",
   "language": "python",
   "name": "python3"
  },
  "language_info": {
   "codemirror_mode": {
    "name": "ipython",
    "version": 3
   },
   "file_extension": ".py",
   "mimetype": "text/x-python",
   "name": "python",
   "nbconvert_exporter": "python",
   "pygments_lexer": "ipython3",
   "version": "3.7.1"
  }
 },
 "nbformat": 4,
 "nbformat_minor": 2
}

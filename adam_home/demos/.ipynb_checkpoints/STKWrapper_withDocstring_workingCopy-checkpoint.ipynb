{
 "cells": [
  {
   "cell_type": "markdown",
   "metadata": {},
   "source": [
    "**File Name:** KariScience_withSTKWrapper.ipynb<br>\n",
    "**Purpose:** Test capability to bypass STK when running Travis-CI<br>\n",
    "**Author:** Emmie King (Emmie@SEE.com)<br>\n",
    "**Project:** B612 - Asteroid Institute<br>\n",
    "**NDA/ITAR:** None<br>\n",
    "**Input:** Summary_Report.csv from KARI_ScienceOrbit 100 km -75x75.ipynb STK jupyter notebook. Size: 9x5 <br>\n",
    " - LAN (deg)  \n",
    " - Number Maneuvers  \n",
    " - Total Delta V (m/s)  \n",
    " - Mean Delta V (m/s)\n",
    " - Standard Deviation (m/s)\n",
    "\n",
    "**Output:** None <br>\n",
    "**Notes:** Travis-CI is run on a Linux platfrom. STK requires Windows and a license for the virtual environment. <br>\n",
    "We are running STK and saving the output into a Summary_Report.csv file. We are testing the csv file on Windows<br>\n",
    "and with Travis-CI.\n"
   ]
  },
  {
   "cell_type": "code",
   "execution_count": 1,
   "metadata": {},
   "outputs": [],
   "source": [
    "import sys, os\n",
    "from os.path import expanduser\n",
    "import platform\n",
    "import psutil\n",
    "import pandas\n",
    "import doctest\n",
    "from pandas.util.testing import assert_frame_equal"
   ]
  },
  {
   "cell_type": "code",
   "execution_count": 2,
   "metadata": {},
   "outputs": [
    {
     "name": "stdout",
     "output_type": "stream",
     "text": [
      "C:\\Users\\macuser\\AppData\\Local\\Temp\\gen_py\\3.7\n",
      "Root directory path:  C:\\Users\\macuser\\TestingTravisCI\\adam_home\n"
     ]
    }
   ],
   "source": [
    "if platform.system() == 'Windows':\n",
    "    try:\n",
    "        sys.path.insert(0, os.path.abspath('..')) #Works for local\n",
    "        #****** Enable this block to generate Summary_Report.csv ******#\n",
    "        print(\"Root directory path: \", os.path.abspath('..'))\n",
    "        %run ./KARI_wSTK_PIDsaved.ipynb\n",
    "        STK_pid = p\n",
    "        processSTK = psutil.Process(STK_pid)\n",
    "        processSTK.kill()\n",
    "\n",
    "    \n",
    "        #****** Enable this block to test Summary_Report.csv ******#\n",
    "        #Folder and File name relative to adam_home/data/\n",
    "        #STKdata_folder = '\\\\KARI_withSTKwrapper_2019_03_06\\\\Summary_Report.csv'\n",
    "        #from adam import adam_config\n",
    "        #ADAMpaths = adam_config.setPaths.initPaths(os.path.abspath('..'))\n",
    "        #csvPath = ADAMpaths[1] + STKdata_folder\n",
    "        #csvData = pandas.read_csv(csvPath)\n",
    "        #print(\"LOCAL\")\n",
    "    except AttributeError:\n",
    "        # In some cases EnsureDispatch('STK.Application') will return an AttributeError:\n",
    "        # no attribute MinorVersion or CLSIDToClassMap. To remedy this error, \n",
    "        # delete the gen_py folder and re-run the notebook.\n",
    "        import win32com\n",
    "        print(\"Location of gen_py folder: \", win32com.__gen_path__)\n",
    "else:\n",
    "    sys.path.insert(0, os.path.abspath('..')) #Works for Travis CI\n",
    "    #print(\"Root directory path: \", os.path.abspath('.'))\n",
    "    from adam import adam_config\n",
    "    \n",
    "    #Folder and File name relative to adam_home/\n",
    "    STKdata_folder = '/KARI/2019_04_01/Summary_Report 100 km-75x75.csv'\n",
    "    ADAMpaths = adam_config.setPaths.initPaths(os.path.abspath('..')) #adam_home path\n",
    "    csvPath = ADAMpaths[1] + STKdata_folder\n",
    "    csvData = pandas.read_csv(csvPath)\n",
    "    #print(\"REMOTE\")    "
   ]
  },
  {
   "cell_type": "markdown",
   "metadata": {},
   "source": [
    "**Method Testing** The following cells should only be run if you are testing the previous cells for errors.<br>\n",
    "The CSV file being tested here was generated on Windows Platform. We are bypassing TravisCI<br>\n",
    "and checking that the numbers match the file uploaded to the Repository.<br>\n",
    "If the numbers match, we will allow TravisCI to pass the notbeook.<br>"
   ]
  },
  {
   "cell_type": "code",
   "execution_count": 77,
   "metadata": {},
   "outputs": [],
   "source": [
    "def csvExist(csvPath):\n",
    "    '''\n",
    "    This will test if the file exists.\n",
    "    >>> assert csvExist(csvPath)==True\n",
    "    '''\n",
    "\n",
    "    return os.path.exists(csvPath) == 1"
   ]
  },
  {
   "cell_type": "code",
   "execution_count": 78,
   "metadata": {},
   "outputs": [],
   "source": [
    "def csvEmpty(csvPath):\n",
    "    '''\n",
    "    This will test if the file is empty and tests the size of the file in bytes.\n",
    "    >>> assert csvEmpty(csvPath)==False\n",
    "    '''\n",
    "    return os.stat(csvPath).st_size==0"
   ]
  },
  {
   "cell_type": "code",
   "execution_count": 89,
   "metadata": {},
   "outputs": [],
   "source": [
    "def csvShape(csvData):\n",
    "    '''\n",
    "    This will test the number of rows and columns in the file.\n",
    "    >>> assert csvShape(csvData)==(9, 6)\n",
    "    '''\n",
    "    return csvData.shape"
   ]
  },
  {
   "cell_type": "code",
   "execution_count": 79,
   "metadata": {},
   "outputs": [],
   "source": [
    "def csvLAN(csvData):\n",
    "    '''\n",
    "    This will test if the values in LAN (deg) is expected.\n",
    "    >>> assert csvLAN(csvData)==0.0\n",
    "    '''\n",
    "    return csvData.loc[0,'LAN (deg)']"
   ]
  },
  {
   "cell_type": "code",
   "execution_count": 80,
   "metadata": {},
   "outputs": [],
   "source": [
    "def csvNMan(csvData):\n",
    "    '''\n",
    "    This will test if the values in the file are as expected.\n",
    "    >>> assert csvNMan(csvData)==12\n",
    "    '''\n",
    "    return csvData.loc[0,'Number Maneuvers']"
   ]
  },
  {
   "cell_type": "raw",
   "metadata": {},
   "source": [
    "def csvTotDelV(csvData):\n",
    "    '''\n",
    "    This will test if the values in the file are as expected.\n",
    "    >>> assert csvTotDelV(csvData)==128.11073427587343\n",
    "    '''\n",
    "    return csvData.loc[0,'Total Delta V (m/s)']"
   ]
  },
  {
   "cell_type": "raw",
   "metadata": {},
   "source": [
    "def csvMeanDelV(csvData):\n",
    "    '''\n",
    "    This will test if the values in the file are as expected.\n",
    "    >>> assert csvMeanDelV(csvData)==4.927335933687437\n",
    "    '''\n",
    "    return csvData.loc[0,'Mean Delta V (m/s)']"
   ]
  },
  {
   "cell_type": "raw",
   "metadata": {},
   "source": [
    "def csvStdDev(csvData):\n",
    "    '''\n",
    "    This will test if the values in the file are as expected.\n",
    "    >>> assert csvStdDev(csvData)==1.0559566325090377\n",
    "    '''\n",
    "    return csvData.loc[0,'Standard Deviation (m/s)']"
   ]
  },
  {
   "cell_type": "code",
   "execution_count": 90,
   "metadata": {},
   "outputs": [
    {
     "name": "stdout",
     "output_type": "stream",
     "text": [
      "Trying:\n",
      "    assert csvEmpty(csvPath)==False\n",
      "Expecting nothing\n",
      "ok\n",
      "Trying:\n",
      "    assert csvExist(csvPath)==True\n",
      "Expecting nothing\n",
      "ok\n",
      "Trying:\n",
      "    assert csvLAN(csvData)==0.0\n",
      "Expecting nothing\n",
      "ok\n",
      "Trying:\n",
      "    assert csvMeanDelV(csvData)==4.927335933687437\n",
      "Expecting nothing\n",
      "**********************************************************************\n",
      "File \"__main__\", line 4, in __main__.csvMeanDelV\n",
      "Failed example:\n",
      "    assert csvMeanDelV(csvData)==4.927335933687437\n",
      "Exception raised:\n",
      "    Traceback (most recent call last):\n",
      "      File \"C:\\Users\\macuser\\Anaconda3\\lib\\doctest.py\", line 1329, in __run\n",
      "        compileflags, 1), test.globs)\n",
      "      File \"<doctest __main__.csvMeanDelV[0]>\", line 1, in <module>\n",
      "        assert csvMeanDelV(csvData)==4.927335933687437\n",
      "    AssertionError\n",
      "Trying:\n",
      "    assert csvNMan(csvData)==12\n",
      "Expecting nothing\n",
      "ok\n",
      "Trying:\n",
      "    assert csvShape(csvData)==(9, 6)\n",
      "Expecting nothing\n",
      "ok\n",
      "Trying:\n",
      "    assert csvStdDev(csvData)==1.0559566325090377\n",
      "Expecting nothing\n",
      "**********************************************************************\n",
      "File \"__main__\", line 4, in __main__.csvStdDev\n",
      "Failed example:\n",
      "    assert csvStdDev(csvData)==1.0559566325090377\n",
      "Exception raised:\n",
      "    Traceback (most recent call last):\n",
      "      File \"C:\\Users\\macuser\\Anaconda3\\lib\\doctest.py\", line 1329, in __run\n",
      "        compileflags, 1), test.globs)\n",
      "      File \"<doctest __main__.csvStdDev[0]>\", line 1, in <module>\n",
      "        assert csvStdDev(csvData)==1.0559566325090377\n",
      "    AssertionError\n",
      "Trying:\n",
      "    assert csvTotDelV(csvData)==128.11073427587343\n",
      "Expecting nothing\n",
      "**********************************************************************\n",
      "File \"__main__\", line 4, in __main__.csvTotDelV\n",
      "Failed example:\n",
      "    assert csvTotDelV(csvData)==128.11073427587343\n",
      "Exception raised:\n",
      "    Traceback (most recent call last):\n",
      "      File \"C:\\Users\\macuser\\Anaconda3\\lib\\doctest.py\", line 1329, in __run\n",
      "        compileflags, 1), test.globs)\n",
      "      File \"<doctest __main__.csvTotDelV[0]>\", line 1, in <module>\n",
      "        assert csvTotDelV(csvData)==128.11073427587343\n",
      "    AssertionError\n",
      "Trying:\n",
      "    assert csvValue(csvData)==0.0\n",
      "Expecting nothing\n",
      "ok\n",
      "1 items had no tests:\n",
      "    __main__\n",
      "6 items passed all tests:\n",
      "   1 tests in __main__.csvEmpty\n",
      "   1 tests in __main__.csvExist\n",
      "   1 tests in __main__.csvLAN\n",
      "   1 tests in __main__.csvNMan\n",
      "   1 tests in __main__.csvShape\n",
      "   1 tests in __main__.csvValue\n",
      "**********************************************************************\n",
      "3 items had failures:\n",
      "   1 of   1 in __main__.csvMeanDelV\n",
      "   1 of   1 in __main__.csvStdDev\n",
      "   1 of   1 in __main__.csvTotDelV\n",
      "9 tests in 10 items.\n",
      "6 passed and 3 failed.\n",
      "***Test Failed*** 3 failures.\n"
     ]
    },
    {
     "data": {
      "text/plain": [
       "TestResults(failed=3, attempted=9)"
      ]
     },
     "execution_count": 90,
     "metadata": {},
     "output_type": "execute_result"
    }
   ],
   "source": [
    "# add this line at the end of the notebook\n",
    "doctest.testmod(verbose=True)"
   ]
  },
  {
   "cell_type": "raw",
   "metadata": {},
   "source": [
    "print(csvData['LAN (deg)'][0])\n",
    "print(csvData['Number Maneuvers'][0])\n",
    "print(csvData['Total Delta V (m/s)'][0])\n",
    "print(csvData['Mean Delta V (m/s)'][0])\n",
    "print(csvData['Standard Deviation (m/s)'][0])"
   ]
  },
  {
   "cell_type": "code",
   "execution_count": 23,
   "metadata": {},
   "outputs": [],
   "source": [
    "#Restore saved information after kernel restart and cell output are cleared\n",
    "#%store -r summaryReportDF\n",
    "#print(summaryReportDF)"
   ]
  }
 ],
 "metadata": {
  "kernelspec": {
   "display_name": "Python 3",
   "language": "python",
   "name": "python3"
  },
  "language_info": {
   "codemirror_mode": {
    "name": "ipython",
    "version": 3
   },
   "file_extension": ".py",
   "mimetype": "text/x-python",
   "name": "python",
   "nbconvert_exporter": "python",
   "pygments_lexer": "ipython3",
   "version": "3.7.1"
  }
 },
 "nbformat": 4,
 "nbformat_minor": 2
}

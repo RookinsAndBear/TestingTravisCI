{
 "cells": [
  {
   "cell_type": "code",
   "execution_count": 1,
   "metadata": {},
   "outputs": [],
   "source": [
    "import os, sys\n",
    "import numpy"
   ]
  },
  {
   "cell_type": "code",
   "execution_count": 2,
   "metadata": {},
   "outputs": [
    {
     "name": "stdout",
     "output_type": "stream",
     "text": [
      "C:\\Users\\macuser\\TestingTravisCI\n"
     ]
    },
    {
     "data": {
      "text/plain": [
       "['',\n",
       " 'C:\\\\Users\\\\macuser\\\\Anaconda3\\\\python36.zip',\n",
       " 'C:\\\\Users\\\\macuser\\\\Anaconda3\\\\DLLs',\n",
       " 'C:\\\\Users\\\\macuser\\\\Anaconda3\\\\lib',\n",
       " 'C:\\\\Users\\\\macuser\\\\Anaconda3',\n",
       " 'C:\\\\Users\\\\macuser\\\\AppData\\\\Roaming\\\\Python\\\\Python36\\\\site-packages',\n",
       " 'C:\\\\Users\\\\macuser\\\\Anaconda3\\\\lib\\\\site-packages',\n",
       " 'C:\\\\Users\\\\macuser\\\\Anaconda3\\\\lib\\\\site-packages\\\\win32',\n",
       " 'C:\\\\Users\\\\macuser\\\\Anaconda3\\\\lib\\\\site-packages\\\\win32\\\\lib',\n",
       " 'C:\\\\Users\\\\macuser\\\\Anaconda3\\\\lib\\\\site-packages\\\\Pythonwin',\n",
       " 'C:\\\\Users\\\\macuser\\\\Anaconda3\\\\lib\\\\site-packages\\\\IPython\\\\extensions',\n",
       " 'C:\\\\Users\\\\macuser\\\\.ipython',\n",
       " 'C:\\\\Users\\\\macuser\\\\TestingTravisCI/adam_home/demos',\n",
       " 'C:\\\\Users\\\\macuser\\\\TestingTravisCI/adam_home/MY_functions',\n",
       " 'C:\\\\Users\\\\macuser\\\\TestingTravisCI/adam_home/tests']"
      ]
     },
     "execution_count": 2,
     "metadata": {},
     "output_type": "execute_result"
    }
   ],
   "source": [
    "print(os.getcwd())\n",
    "sys.path.append(os.getcwd() + '/adam_home/demos')\n",
    "sys.path.append(os.getcwd() + '/adam_home/MY_functions')\n",
    "sys.path.append(os.getcwd() + '/adam_home/tests')\n",
    "sys.path"
   ]
  },
  {
   "cell_type": "code",
   "execution_count": 4,
   "metadata": {},
   "outputs": [],
   "source": [
    "from OrbitStatistics import CartCovSymmetricFromCartCovSTK\n",
    "from OrbitalElementsFromCartState import OrbitPeriodFromSma"
   ]
  },
  {
   "cell_type": "code",
   "execution_count": null,
   "metadata": {},
   "outputs": [],
   "source": [
    "print(numpy.version.version)\n",
    "assert(numpy.__version__ == '1.14.0')"
   ]
  },
  {
   "cell_type": "code",
   "execution_count": 10,
   "metadata": {},
   "outputs": [
    {
     "name": "stdout",
     "output_type": "stream",
     "text": [
      "3.189947577191401e-07\n"
     ]
    }
   ],
   "source": [
    "print(OrbitPeriodFromSma(10, 387965086546890000))\n",
    "period = OrbitPeriodFromSma(10, 387965086546890000)"
   ]
  },
  {
   "cell_type": "code",
   "execution_count": 12,
   "metadata": {},
   "outputs": [
    {
     "ename": "AssertionError",
     "evalue": "Assertion FAILED: Orbit Period test result does not match",
     "output_type": "error",
     "traceback": [
      "\u001b[1;31m---------------------------------------------------------------------------\u001b[0m",
      "\u001b[1;31mAssertionError\u001b[0m                            Traceback (most recent call last)",
      "\u001b[1;32m<ipython-input-12-dd2f48a38515>\u001b[0m in \u001b[0;36m<module>\u001b[1;34m()\u001b[0m\n\u001b[1;32m----> 1\u001b[1;33m \u001b[1;32massert\u001b[0m\u001b[1;33m(\u001b[0m\u001b[0mOrbitPeriodFromSma\u001b[0m\u001b[1;33m(\u001b[0m\u001b[1;36m10\u001b[0m\u001b[1;33m,\u001b[0m \u001b[1;36m387965086546890000\u001b[0m\u001b[1;33m)\u001b[0m \u001b[1;33m==\u001b[0m \u001b[0mperiod\u001b[0m \u001b[1;33m+\u001b[0m \u001b[1;36m1\u001b[0m\u001b[1;33m)\u001b[0m\u001b[1;33m,\u001b[0m \u001b[1;34m\"Assertion FAILED: Orbit Period test result does not match\"\u001b[0m\u001b[1;33m\u001b[0m\u001b[0m\n\u001b[0m",
      "\u001b[1;31mAssertionError\u001b[0m: Assertion FAILED: Orbit Period test result does not match"
     ]
    }
   ],
   "source": [
    "assert(OrbitPeriodFromSma(10, 387965086546890000) == period + 1), \"Assertion FAILED: Orbit Period test result does not match\""
   ]
  },
  {
   "cell_type": "code",
   "execution_count": 13,
   "metadata": {},
   "outputs": [],
   "source": [
    "assert(OrbitPeriodFromSma(10, 387965086546890000) == period), \"Won't see this comment unless Orbit Period test result does not match\""
   ]
  },
  {
   "cell_type": "code",
   "execution_count": null,
   "metadata": {},
   "outputs": [],
   "source": [
    "raise ValueError('Testing failure to see what Travis does')"
   ]
  }
 ],
 "metadata": {
  "kernelspec": {
   "display_name": "Python 3",
   "language": "python",
   "name": "python3"
  },
  "language_info": {
   "codemirror_mode": {
    "name": "ipython",
    "version": 3
   },
   "file_extension": ".py",
   "mimetype": "text/x-python",
   "name": "python",
   "nbconvert_exporter": "python",
   "pygments_lexer": "ipython3",
   "version": "3.7.2"
  }
 },
 "nbformat": 4,
 "nbformat_minor": 2
}

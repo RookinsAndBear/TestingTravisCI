{
 "cells": [
  {
   "cell_type": "code",
   "execution_count": 11,
   "metadata": {},
   "outputs": [],
   "source": [
    "%matplotlib inline\n",
    "\n",
    "import sys\n",
    "\n",
    "# Import Python Libraries\n",
    "\n",
    "import numpy as np\n",
    "\n",
    "import pandas as pd\n",
    "\n",
    "#import scipy as sp\n",
    "\n",
    "from datetime import datetime\n",
    "\n",
    "import matplotlib\n",
    "\n",
    "import matplotlib.pyplot as plt\n",
    "\n",
    "\n",
    "\n",
    "from IPython.display import display, HTML"
   ]
  },
  {
   "cell_type": "raw",
   "execution_count": 1,
   "metadata": {},
   "outputs": [],
   "source": [
    "# Import Libraries to control STK\n",
    "from win32api import GetSystemMetrics\n",
    "import os\n",
    "import win32com.client as win32\n",
    "import comtypes\n",
    "from comtypes.client import CreateObject"
   ]
  },
  {
   "cell_type": "raw",
   "metadata": {},
   "source": [
    "# Start new instance of STK\n",
    "# from stk import AstrogatorOutput\n",
    "# Start STK, or get handle if it's already running\n",
    "\n",
    "# stk_app = win32.Dispatch('STK11.Application') - appveyor says stk11.application is unknown\n",
    "#stk_app = win32.gencache.EnsureDispatch('STK11.Application')\n",
    "#from comtypes.gen import STKUtil\n",
    "#from comtypes.gen import STKObjects\n",
    "\n",
    "stk_app = CreateObject('STK11.Application')\n",
    "#print(stk_app.__module__)\n",
    "stk_app.Visible = True;"
   ]
  },
  {
   "cell_type": "raw",
   "metadata": {},
   "source": [
    "# Get reference to running STK instance\n",
    "from comtypes.client import GetActiveObject\n",
    "stk_app = GetActiveObject('STK11.Application')\n",
    "stk_app.Visible = True;"
   ]
  },
  {
   "cell_type": "raw",
   "metadata": {},
   "source": [
    "# Get IAgStkObjectRoot interface\n",
    "root = stk_app.Personality2"
   ]
  },
  {
   "cell_type": "raw",
   "metadata": {},
   "source": [
    "# Get pointers to the base objects\n",
    "\n",
    "# STK = stk_app.Personality # Personality is not used for this example, but used for Astrogator.\n",
    "\n",
    "# root = stk_app.Personality2\n",
    "\n",
    "# Make it so we can see STK\n",
    "\n",
    "# stk_app.Visible = True"
   ]
  },
  {
   "cell_type": "raw",
   "metadata": {},
   "source": [
    "# import os, sys\n",
    "import numpy"
   ]
  },
  {
   "cell_type": "raw",
   "metadata": {},
   "source": [
    "print(os.getcwd())\n",
    "# sys.path.append(os.getcwd() + '/demos')\n",
    "# sys.path.append(os.getcwd() + '/MY_functions')\n",
    "# sys.path.append(os.getcwd() + '/tests')\n",
    "sys.path"
   ]
  },
  {
   "cell_type": "code",
   "execution_count": 11,
   "metadata": {},
   "outputs": [],
   "source": [
    "# from OrbitStatistics import CartCovSymmetricFromCartCovSTK\n",
    "from OrbitalElementsFromCartState import OrbitPeriodFromSma"
   ]
  },
  {
   "cell_type": "raw",
   "metadata": {},
   "source": [
    "print(numpy.version.version)\n",
    "assert(numpy.__version__ == '1.14.0')"
   ]
  },
  {
   "cell_type": "code",
   "execution_count": 12,
   "metadata": {},
   "outputs": [
    {
     "name": "stdout",
     "output_type": "stream",
     "text": [
      "3.189947577191401e-07\n"
     ]
    }
   ],
   "source": [
    "print(OrbitPeriodFromSma(10, 387965086546890000))\n",
    "period = OrbitPeriodFromSma(10, 387965086546890000)"
   ]
  },
  {
   "cell_type": "raw",
   "metadata": {},
   "source": [
    "assert(OrbitPeriodFromSma(10, 387965086546890000) == period + 1), \"Assertion FAILED: Orbit Period test result does not match\""
   ]
  },
  {
   "cell_type": "code",
   "execution_count": 13,
   "metadata": {},
   "outputs": [],
   "source": [
    "assert(OrbitPeriodFromSma(10, 387965086546890000) == period), \"Won't see this comment unless Orbit Period test result does not match\""
   ]
  },
  {
   "cell_type": "raw",
   "metadata": {},
   "source": [
    "# raise ValueError('Testing failure to see what AppVeyor does')"
   ]
  },
  {
   "cell_type": "code",
   "execution_count": 32,
   "metadata": {},
   "outputs": [],
   "source": [
    "# Continuous Integration Preference - use doctest instead of unittest since error test looks for unique string \"***Test FAILED***\"\n",
    "def addTEST(a, b):\n",
    "    '''\n",
    "    This is the test:\n",
    "    >>> assert addTEST(2,2)==4\n",
    "\n",
    "    >>> assert addTEST(10,3)==13\n",
    "    \n",
    "    '''\n",
    "    # >>> assert addTEST(2,2)==8\n",
    "    # Failed assert in doctest = travis pass\n",
    "    # PDB debugger is difficult to get out of. Only enable this if you are sitting with the test\n",
    "    # and able to restart the kernel. The notebook won't proceed if you enable this.\n",
    "    # import pdb; pdb.set_trace() # Uncomment this line to start the PDB debugger at this point.\n",
    "    return a + b"
   ]
  },
  {
   "cell_type": "code",
   "execution_count": 33,
   "metadata": {},
   "outputs": [],
   "source": [
    "def subTEST(a, b):\n",
    "    '''\n",
    "    This is the test:\n",
    "    >>> assert subTEST(10,1)==9\n",
    "    \n",
    "    >>> assert subTEST(10,25)==-15\n",
    "    '''\n",
    "    return a - b"
   ]
  },
  {
   "cell_type": "code",
   "execution_count": 34,
   "metadata": {},
   "outputs": [
    {
     "name": "stdout",
     "output_type": "stream",
     "text": [
      "Trying:\n",
      "    assert addTEST(2,2)==4\n",
      "Expecting nothing\n",
      "ok\n",
      "Trying:\n",
      "    assert addTEST(10,3)==13\n",
      "Expecting nothing\n",
      "ok\n",
      "Trying:\n",
      "    assert subTEST(10,1)==9\n",
      "Expecting nothing\n",
      "ok\n",
      "Trying:\n",
      "    assert subTEST(10,25)==-15\n",
      "Expecting nothing\n",
      "ok\n",
      "3 items had no tests:\n",
      "    __main__\n",
      "    __main__.TestNotebook\n",
      "    __main__.TestNotebook.test_add\n",
      "2 items passed all tests:\n",
      "   2 tests in __main__.addTEST\n",
      "   2 tests in __main__.subTEST\n",
      "4 tests in 5 items.\n",
      "4 passed and 0 failed.\n",
      "Test passed.\n"
     ]
    },
    {
     "data": {
      "text/plain": [
       "TestResults(failed=0, attempted=4)"
      ]
     },
     "execution_count": 34,
     "metadata": {},
     "output_type": "execute_result"
    }
   ],
   "source": [
    "# add these 2 lines at the end of the notebook\n",
    "import doctest\n",
    "# pytest --doctest-modules --doctest-report none\n",
    "doctest.testmod(verbose=True)"
   ]
  },
  {
   "cell_type": "code",
   "execution_count": 61,
   "metadata": {},
   "outputs": [],
   "source": [
    "import unittest\n",
    "\n",
    "class TestNotebook(unittest.TestCase):\n",
    "    \n",
    "    def test_add(self):\n",
    "        a = 2\n",
    "        b = 2\n",
    "        c = 6\n",
    "        d = 4\n",
    "        err_str = '***Test Failed*** {} + {} does not equal {}'.format(a,b,c)\n",
    "        self.assertEqual(addTEST(a, b), d, err_str)\n",
    "        # self.assertEqual(addTEST(a, b), c, err_str)"
   ]
  },
  {
   "cell_type": "code",
   "execution_count": 62,
   "metadata": {},
   "outputs": [
    {
     "name": "stderr",
     "output_type": "stream",
     "text": [
      "test_add (__main__.TestNotebook) ... ok\n",
      "\n",
      "----------------------------------------------------------------------\n",
      "Ran 1 test in 0.003s\n",
      "\n",
      "OK\n"
     ]
    },
    {
     "data": {
      "text/plain": [
       "<unittest.main.TestProgram at 0x28eb98352e8>"
      ]
     },
     "execution_count": 62,
     "metadata": {},
     "output_type": "execute_result"
    }
   ],
   "source": [
    "unittest.main(argv=[''], verbosity=2, exit=False)"
   ]
  },
  {
   "cell_type": "code",
   "execution_count": null,
   "metadata": {},
   "outputs": [],
   "source": []
  }
 ],
 "metadata": {
  "kernelspec": {
   "display_name": "python3",
   "language": "python",
   "name": "python3"
  },
  "language_info": {
   "codemirror_mode": {
    "name": "ipython",
    "version": 3
   },
   "file_extension": ".py",
   "mimetype": "text/x-python",
   "name": "python",
   "nbconvert_exporter": "python",
   "pygments_lexer": "ipython3",
   "version": "3.6.4"
  }
 },
 "nbformat": 4,
 "nbformat_minor": 2
}

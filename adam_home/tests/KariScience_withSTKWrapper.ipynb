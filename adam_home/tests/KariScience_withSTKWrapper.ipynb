{
 "cells": [
  {
   "cell_type": "markdown",
   "metadata": {},
   "source": [
    "**File Name:** KariScience_withSTKWrapper.ipynb<br>\n",
    "**Purpose:** Test capability to bypass STK when running Travis-CI<br>\n",
    "**Author:** Emmie King (Emmie@SEE.com)<br>\n",
    "**Project:** B612 - Asteroid Institute<br>\n",
    "**NDA/ITAR:** None<br>\n",
    "**Input:** Summary_Report.csv from KARI_ScienceOrbit.ipynb STK jupyter notebook<br>\n",
    " - LAN (deg)  \n",
    " - Number Maneuvers  \n",
    " - Total Delta V (m/s)  \n",
    " - Mean Delta V (m/s)\n",
    " - Standard Deviation (m/s)\n",
    "\n",
    "**Output:** None <br>\n",
    "**Notes:** Travis-CI is run on a Linux platfrom. STK requires Windows and a license for the virtual environment. <br>\n",
    "We are running STK and saving the output into a Summary_Report.csv file. We are testing the csv file on Windows<br>\n",
    "and with Travis-CI.\n"
   ]
  },
  {
   "cell_type": "code",
   "execution_count": 2,
   "metadata": {},
   "outputs": [],
   "source": [
    "import sys, os\n",
    "from os.path import expanduser\n",
    "import platform\n",
    "import psutil\n",
    "import pandas\n",
    "import doctest"
   ]
  },
  {
   "cell_type": "code",
   "execution_count": 3,
   "metadata": {},
   "outputs": [
    {
     "name": "stdout",
     "output_type": "stream",
     "text": [
      "cwd =  C:\\Users\\macuser\\TestingTravisCI\\adam_home\\tests\n"
     ]
    }
   ],
   "source": [
    "print('cwd = ', os.getcwd())"
   ]
  },
  {
   "cell_type": "code",
   "execution_count": null,
   "metadata": {},
   "outputs": [],
   "source": [
    "#local path to adam\n",
    "adam_home_defined = expanduser(\"~\") + \"/TestingTravisCI/adam_home\" # / syntax works for Windows, Mac, and Linux\n",
    "#remote path to adam\n",
    "#adam_home_defined = expanduser(\"~\") + \"/adam_home\" #397 / syntax works for Windows, Mac, and Linux\n",
    "#adam_home_defined = expanduser(\"~\")\n",
    "#adam_home_defined = os.getcwd()\n",
    "#adam_home_defined = expanduser(\"~\") + \"/TestingTravisCI/adam_home\" #398 / syntax works for Windows, Mac, and Linux\n",
    "print('adam_home_defined = ', adam_home_defined)\n",
    "#sys.path.append(adam_home_defined) \n",
    "#sys.path"
   ]
  },
  {
   "cell_type": "code",
   "execution_count": 9,
   "metadata": {},
   "outputs": [
    {
     "name": "stdout",
     "output_type": "stream",
     "text": [
      "Changing adam home path to =  C:\\Users\\macuser/TestingTravisCI/adam_home\n",
      "TRY\n"
     ]
    }
   ],
   "source": [
    "try:\n",
    "    sys.path.insert(0, os.path.abspath('..')) #Works for local\n",
    "    from adam import adam_config\n",
    "    ADAMpaths = adam_config.setPaths.initPaths(adam_home_defined)\n",
    "    STKdata_folder = '/KARI_withSTKwrapper_2019_03_06/Summary_Report.csv'\n",
    "    print(\"TRY\")\n",
    "except:\n",
    "    sys.path.insert(0, os.path.abspath('.')) #Works for Travis CI\n",
    "    from adam import adam_configr \n",
    "    print(\"EXCEPT\")"
   ]
  },
  {
   "cell_type": "raw",
   "metadata": {},
   "source": [
    "#import adam modules after setting adam directory path \n",
    "from adam import adam_config\n",
    "# Set up adam paths\n",
    "ADAMpaths = adam_config.setPaths.initPaths(adam_home_defined)\n",
    "#print(ADAMpaths[1])\n",
    "#asciiPath = ascii(ADAMpaths[1])\n",
    "STKdata_folder = '/KARI_withSTKwrapper_2019_03_06/Summary_Report.csv'\n",
    "#print(asciiPath)"
   ]
  },
  {
   "cell_type": "code",
   "execution_count": 95,
   "metadata": {},
   "outputs": [],
   "source": [
    "# Continuous Integration Preference - use doctest instead of unittest since error test looks for unique string \"***Test FAILED***\"\n",
    "def openCSV_test(ADAMpaths, STKdata_folder):\n",
    "#def openCSV_test(asciiPath, STKdata_folder):\n",
    "    '''\n",
    "    This is the test:\n",
    "    #>>> assert openCSV_test('C:\\Users\\macuser/adam_home/data','/KARI_withSTKwrapper_2019_03_06/Summary_Report.csv')==\"C:\\\\\\\\Users\\\\\\\\macuser/adam_home/data/KARI_withSTKwrapper_2019_03_06/Summary_Report.csv\"\n",
    "    \n",
    "    '''\n",
    "    #print(ADAMpaths + STKdata_folder)\n",
    "    #pandas.read_csv(asciiPath + STKdata_folder)\n",
    "    #print('Path to STK Summary_Report_csv file, generated with KARI_ScienceOrbit 100km-75x75.ipynb = ' + asciiPath + STKdata_folder)\n",
    "    #STK_csv_path = asciiPath + STKdata_folder\n",
    "    data = pandas.read_csv(ADAMpaths + STKdata_folder)\n",
    "    if len(data)==0:\n",
    "        status = 'File read UNsuccessful'\n",
    "    else:\n",
    "        status = 'File read successful'\n",
    "    return data, status\n",
    "\n"
   ]
  },
  {
   "cell_type": "code",
   "execution_count": 96,
   "metadata": {},
   "outputs": [
    {
     "name": "stdout",
     "output_type": "stream",
     "text": [
      "File read successfully\n"
     ]
    },
    {
     "data": {
      "text/html": [
       "<div>\n",
       "<style scoped>\n",
       "    .dataframe tbody tr th:only-of-type {\n",
       "        vertical-align: middle;\n",
       "    }\n",
       "\n",
       "    .dataframe tbody tr th {\n",
       "        vertical-align: top;\n",
       "    }\n",
       "\n",
       "    .dataframe thead th {\n",
       "        text-align: right;\n",
       "    }\n",
       "</style>\n",
       "<table border=\"1\" class=\"dataframe\">\n",
       "  <thead>\n",
       "    <tr style=\"text-align: right;\">\n",
       "      <th></th>\n",
       "      <th>Unnamed: 0</th>\n",
       "      <th>LAN (deg)</th>\n",
       "      <th>Number Maneuvers</th>\n",
       "      <th>Total Delta V (m/s)</th>\n",
       "      <th>Mean Delta V (m/s)</th>\n",
       "      <th>Standard Deviation (m/s)</th>\n",
       "    </tr>\n",
       "  </thead>\n",
       "  <tbody>\n",
       "    <tr>\n",
       "      <th>0</th>\n",
       "      <td>0</td>\n",
       "      <td>0.0</td>\n",
       "      <td>26</td>\n",
       "      <td>128.110734</td>\n",
       "      <td>4.927336</td>\n",
       "      <td>1.055957</td>\n",
       "    </tr>\n",
       "  </tbody>\n",
       "</table>\n",
       "</div>"
      ],
      "text/plain": [
       "   Unnamed: 0  LAN (deg)  Number Maneuvers  Total Delta V (m/s)  \\\n",
       "0           0        0.0                26           128.110734   \n",
       "\n",
       "   Mean Delta V (m/s)  Standard Deviation (m/s)  \n",
       "0            4.927336                  1.055957  "
      ]
     },
     "execution_count": 96,
     "metadata": {},
     "output_type": "execute_result"
    }
   ],
   "source": [
    "openCSV_test(ADAMpaths[1], STKdata_folder)"
   ]
  },
  {
   "cell_type": "code",
   "execution_count": 90,
   "metadata": {},
   "outputs": [],
   "source": [
    "# Continuous Integration Preference - use doctest instead of unittest since error test looks for unique string \"***Test FAILED***\"\n",
    "def addTEST(a, b):\n",
    "    '''\n",
    "    This is the test:\n",
    "    >>> assert addTEST(2,2)==4\n",
    "\n",
    "    >>> assert addTEST(10,3)==13\n",
    "    \n",
    "    '''\n",
    "    # >>> assert addTEST(2,2)==8\n",
    "    # Failed assert in doctest = travis pass\n",
    "    # PDB debugger is difficult to get out of. Only enable this if you are sitting with the test\n",
    "    # and able to restart the kernel. The notebook won't proceed if you enable this.\n",
    "    # import pdb; pdb.set_trace() # Uncomment this line to start the PDB debugger at this point.\n",
    "    return a + b"
   ]
  },
  {
   "cell_type": "code",
   "execution_count": 91,
   "metadata": {},
   "outputs": [
    {
     "name": "stdout",
     "output_type": "stream",
     "text": [
      "Trying:\n",
      "    assert addTEST(2,2)==4\n",
      "Expecting nothing\n",
      "ok\n",
      "Trying:\n",
      "    assert addTEST(10,3)==13\n",
      "Expecting nothing\n",
      "ok\n",
      "Trying:\n",
      "    assert set_Paths('C:\\\\Users\\\\macuser/adam_home/data','/KARI_withSTKwrapper_2019_03_06/Summary_Report.csv')==\"C:\\\\Users\\\\macuser/adam_home/data/KARI_withSTKwrapper_2019_03_06/Summary_Report.csv\"\n",
      "Expecting nothing\n",
      "ok\n",
      "3 items had no tests:\n",
      "    __main__\n",
      "    __main__.openCSV_test\n",
      "    __main__.set_paths\n",
      "2 items passed all tests:\n",
      "   2 tests in __main__.addTEST\n",
      "   1 tests in __main__.set_Paths\n",
      "3 tests in 5 items.\n",
      "3 passed and 0 failed.\n",
      "Test passed.\n"
     ]
    },
    {
     "data": {
      "text/plain": [
       "TestResults(failed=0, attempted=3)"
      ]
     },
     "execution_count": 91,
     "metadata": {},
     "output_type": "execute_result"
    }
   ],
   "source": [
    "# add these 2 lines at the end of the notebook\n",
    "doctest.testmod(verbose=True)"
   ]
  },
  {
   "cell_type": "code",
   "execution_count": null,
   "metadata": {},
   "outputs": [],
   "source": [
    "#--------------------------------------------\n",
    "# Path Directory from adam_config.json\n",
    "#--------------------------------------------\n",
    "\n",
    "#print('Path to ADAM package ' + ADAMpaths[0])\n",
    "\n",
    "#print('Path to data directory ' + ADAMpaths[1])\n",
    "\n",
    "#print('Path to environment and path template file ' + ADAMpaths[2])\n",
    "\n",
    "STKdata_folder = '/KARI_withSTKwrapper_2019_03_06/Summary_Report.csv'\n",
    "print('Path to STK Summary_Report_csv file, generated with KARI_ScienceOrbit 100km-75x75.ipynb = ' + ADAMpaths[1] + STKdata_folder)\n",
    "\n",
    "#--------------------------------------------\n",
    "# User add file name for generated data files\n",
    "#user_folder_name = 'demo_ephem'\n",
    "#--------------------------------------------"
   ]
  },
  {
   "cell_type": "raw",
   "metadata": {},
   "source": [
    "os.getcwd()"
   ]
  },
  {
   "cell_type": "raw",
   "metadata": {},
   "source": [
    "cd .."
   ]
  },
  {
   "cell_type": "raw",
   "metadata": {},
   "source": [
    "cd data/KARI_withSTKwrapper_2019_03_06"
   ]
  },
  {
   "cell_type": "code",
   "execution_count": null,
   "metadata": {},
   "outputs": [],
   "source": [
    "STK_out_file_local = os.getcwd() + '\\Summary_Report.csv'\n",
    "print(STK_out_file_local)"
   ]
  },
  {
   "cell_type": "code",
   "execution_count": null,
   "metadata": {},
   "outputs": [],
   "source": [
    "#set data directory\n",
    "STK_out_file_remote =  ADAMpaths[1] + STKdata_folder\n",
    "print(STK_out_file_remote)\n",
    "#STK_out_file_remote = '/home/travis/build/RookinsAndBear/TestingTravisCI/adam_home/data/KARI_withSTKwrapper_2019_03_06/Summary_Report.csv'"
   ]
  },
  {
   "cell_type": "code",
   "execution_count": null,
   "metadata": {},
   "outputs": [],
   "source": [
    "#if platform.system() == 'Windows':\n",
    "#    print(\"STK compatible Operating System\")\n",
    "#    print(\"Notebook can Continue\")\n",
    "#    %run ./example.ipynb\n",
    "#    %run ./KARI_ScienceOrbit.ipynb #Not uploaded to Repo since Travis says we are running Linux\n",
    "#    #%store summaryReportDF, p \n",
    "#    STK_pid = p\n",
    "#    processSTK = psutil.Process(STK_pid)\n",
    "#    processSTK.kill()\n",
    "#else:\n",
    "print(\"STK incompatible with Operating System\")\n",
    "print(\"Bypass output for Travis-CI and load in STK Summary file\")\n",
    "    # Load csv file generated from Windows STK file (KARI_ScienceOrbit.ipynb)\n",
    "STK_summary = pandas.read_csv(STK_out_file_remote)\n",
    "print(STK_summary)\n",
    "    #Restore saved information after kernel restart and cell output are cleared\n",
    "    #%store -r summaryReportDF\n",
    "    #print(summaryReportDF)\n"
   ]
  },
  {
   "cell_type": "code",
   "execution_count": 1,
   "metadata": {},
   "outputs": [],
   "source": [
    "#Restore saved information after kernel restart and cell output are cleared\n",
    "#%store -r summaryReportDF\n",
    "#print(summaryReportDF)"
   ]
  },
  {
   "cell_type": "code",
   "execution_count": null,
   "metadata": {},
   "outputs": [],
   "source": []
  }
 ],
 "metadata": {
  "kernelspec": {
   "display_name": "Python 3",
   "language": "python",
   "name": "python3"
  },
  "language_info": {
   "codemirror_mode": {
    "name": "ipython",
    "version": 3
   },
   "file_extension": ".py",
   "mimetype": "text/x-python",
   "name": "python",
   "nbconvert_exporter": "python",
   "pygments_lexer": "ipython3",
   "version": "3.7.1"
  }
 },
 "nbformat": 4,
 "nbformat_minor": 2
}

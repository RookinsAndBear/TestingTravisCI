{
 "cells": [
  {
   "cell_type": "markdown",
   "metadata": {},
   "source": [
    "**File Name:** KariScience_withSTKWrapper.ipynb<br>\n",
    "**Purpose:** Test capability to bypass STK when running Travis-CI<br>\n",
    "**Author:** Emmie King (Emmie@SEE.com)<br>\n",
    "**Project:** B612 - Asteroid Institute<br>\n",
    "**NDA/ITAR:** None<br>\n",
    "**Input:** Summary_Report.csv from KARI_ScienceOrbit.ipynb STK jupyter notebook<br>\n",
    " - LAN (deg)  \n",
    " - Number Maneuvers  \n",
    " - Total Delta V (m/s)  \n",
    " - Mean Delta V (m/s)\n",
    " - Standard Deviation (m/s)\n",
    "\n",
    "**Output:** None <br>\n",
    "**Notes:** Travis-CI is run on a Linux platfrom. STK requires Windows and a license for the virtual environment. <br>\n",
    "We are running STK and saving the output into a Summary_Report.csv file. We are testing the csv file on Windows<br>\n",
    "and with Travis-CI.\n"
   ]
  },
  {
   "cell_type": "code",
   "execution_count": 10,
   "metadata": {},
   "outputs": [
    {
     "name": "stdout",
     "output_type": "stream",
     "text": [
      "cwd =  C:\\Users\\macuser\\TestingTravisCI\\adam_home\\tests\n",
      "adam_home_defined =  C:\\Users\\macuser/TestingTravisCI/adam_home\n",
      "Changing adam home path to =  C:\\Users\\macuser/TestingTravisCI/adam_home\n"
     ]
    }
   ],
   "source": [
    "import sys\n",
    "from os.path import expanduser\n",
    "print('cwd = ', os.getcwd())\n",
    "adam_home_defined = expanduser(\"~\") + \"/TestingTravisCI/adam_home\" # / syntax works for Windows, Mac, and Linux\n",
    "print('adam_home_defined = ', adam_home_defined)\n",
    "sys.path.append(adam_home_defined) \n",
    "#import adam modules after setting adam directory path \n",
    "from adam import adam_config\n",
    "# Set up adam paths\n",
    "ADAMpaths = adam_config.setPaths.initPaths(adam_home_defined)\n",
    "import platform\n",
    "import psutil\n",
    "import pandas, os"
   ]
  },
  {
   "cell_type": "code",
   "execution_count": null,
   "metadata": {},
   "outputs": [],
   "source": [
    "#import os\n",
    "#os.getcwd()\n",
    "#print(adam_home_defined)"
   ]
  },
  {
   "cell_type": "code",
   "execution_count": 7,
   "metadata": {},
   "outputs": [
    {
     "name": "stdout",
     "output_type": "stream",
     "text": [
      "Path to ADAM package C:\\Users\\macuser/TestingTravisCI/adam_home/\n",
      "Path to data directory C:\\Users\\macuser/TestingTravisCI/adam_home/data\n",
      "Path to environment and path template file C:\\Users\\macuser/TestingTravisCI/adam_home/config/adam_config_template.json\n",
      "Path to STK Summary_Report_csv file, generated with KARI_ScienceOrbit 100km-75x75.ipynb = C:\\Users\\macuser/TestingTravisCI/adam_home/data/KARI_withSTKwrapper_2019_03_06/Summary_Report.csv\n"
     ]
    }
   ],
   "source": [
    "#--------------------------------------------\n",
    "# Path Directory from adam_config.json\n",
    "#--------------------------------------------\n",
    "\n",
    "#print('Path to ADAM package ' + ADAMpaths[0])\n",
    "\n",
    "#print('Path to data directory ' + ADAMpaths[1])\n",
    "\n",
    "#print('Path to environment and path template file ' + ADAMpaths[2])\n",
    "\n",
    "STKdata_folder = '/KARI_withSTKwrapper_2019_03_06/Summary_Report.csv'\n",
    "print('Path to STK Summary_Report_csv file, generated with KARI_ScienceOrbit 100km-75x75.ipynb = ' + ADAMpaths[1] + STKdata_folder)\n",
    "\n",
    "#--------------------------------------------\n",
    "# User add file name for generated data files\n",
    "#user_folder_name = 'demo_ephem'\n",
    "#--------------------------------------------"
   ]
  },
  {
   "cell_type": "raw",
   "metadata": {},
   "source": [
    "os.getcwd()"
   ]
  },
  {
   "cell_type": "raw",
   "metadata": {},
   "source": [
    "cd .."
   ]
  },
  {
   "cell_type": "raw",
   "metadata": {},
   "source": [
    "cd data/KARI_withSTKwrapper_2019_03_06"
   ]
  },
  {
   "cell_type": "code",
   "execution_count": null,
   "metadata": {},
   "outputs": [],
   "source": [
    "STK_out_file_local = os.getcwd() + '\\Summary_Report.csv'\n",
    "print(STK_out_file_local)"
   ]
  },
  {
   "cell_type": "code",
   "execution_count": 8,
   "metadata": {},
   "outputs": [
    {
     "name": "stdout",
     "output_type": "stream",
     "text": [
      "C:\\Users\\macuser/TestingTravisCI/adam_home/data/KARI_withSTKwrapper_2019_03_06/Summary_Report.csv\n"
     ]
    }
   ],
   "source": [
    "#set data directory\n",
    "STK_out_file_remote =  ADAMpaths[1] + STKdata_folder\n",
    "print(STK_out_file_remote)\n",
    "#STK_out_file_remote = '/home/travis/build/RookinsAndBear/TestingTravisCI/adam_home/data/KARI_withSTKwrapper_2019_03_06/Summary_Report.csv'"
   ]
  },
  {
   "cell_type": "code",
   "execution_count": 9,
   "metadata": {},
   "outputs": [
    {
     "name": "stdout",
     "output_type": "stream",
     "text": [
      "STK incompatible with Operating System\n",
      "Bypass output for Travis-CI and load in STK Summary file\n",
      "   Unnamed: 0  LAN (deg)  Number Maneuvers  Total Delta V (m/s)  \\\n",
      "0           0        0.0                26           128.110734   \n",
      "\n",
      "   Mean Delta V (m/s)  Standard Deviation (m/s)  \n",
      "0            4.927336                  1.055957  \n"
     ]
    }
   ],
   "source": [
    "#if platform.system() == 'Windows':\n",
    "#    print(\"STK compatible Operating System\")\n",
    "#    print(\"Notebook can Continue\")\n",
    "#    %run ./KARI_ScienceOrbit.ipynb #Not uploaded to Repo since Travis says we are running Linux\n",
    "#    #%store summaryReportDF, p \n",
    "#    STK_pid = p\n",
    "#    processSTK = psutil.Process(STK_pid)\n",
    "#    processSTK.kill()\n",
    "#else:\n",
    "print(\"STK incompatible with Operating System\")\n",
    "print(\"Bypass output for Travis-CI and load in STK Summary file\")\n",
    "    # Load csv file generated from Windows STK file (KARI_ScienceOrbit.ipynb)\n",
    "#STK_summary = pandas.read_csv(\"Summary_Report.csv\")\n",
    "STK_summary = pandas.read_csv(STK_out_file_remote)\n",
    "print(STK_summary)\n",
    "    #Restore saved information after kernel restart and cell output are cleared\n",
    "    #%store -r summaryReportDF\n",
    "    #print(summaryReportDF)\n"
   ]
  },
  {
   "cell_type": "code",
   "execution_count": null,
   "metadata": {},
   "outputs": [],
   "source": [
    "#Restore saved information after kernel restart and cell output are cleared\n",
    "#%store -r summaryReportDF\n",
    "#print(summaryReportDF)"
   ]
  }
 ],
 "metadata": {
  "kernelspec": {
   "display_name": "Python 3",
   "language": "python",
   "name": "python3"
  },
  "language_info": {
   "codemirror_mode": {
    "name": "ipython",
    "version": 3
   },
   "file_extension": ".py",
   "mimetype": "text/x-python",
   "name": "python",
   "nbconvert_exporter": "python",
   "pygments_lexer": "ipython3",
   "version": "3.7.1"
  }
 },
 "nbformat": 4,
 "nbformat_minor": 2
}

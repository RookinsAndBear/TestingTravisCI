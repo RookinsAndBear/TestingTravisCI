{
 "cells": [
  {
   "cell_type": "code",
   "execution_count": 1,
   "metadata": {},
   "outputs": [],
   "source": [
    "import platform\n",
    "import psutil\n",
    "import pandas, os"
   ]
  },
  {
   "cell_type": "code",
   "execution_count": 2,
   "metadata": {},
   "outputs": [
    {
     "data": {
      "text/plain": [
       "'C:\\\\Users\\\\macuser\\\\TestingTravisCI\\\\adam_home\\\\demos'"
      ]
     },
     "execution_count": 2,
     "metadata": {},
     "output_type": "execute_result"
    }
   ],
   "source": [
    "os.getcwd()"
   ]
  },
  {
   "cell_type": "code",
   "execution_count": 3,
   "metadata": {},
   "outputs": [
    {
     "name": "stdout",
     "output_type": "stream",
     "text": [
      "C:\\Users\\macuser\\TestingTravisCI\\adam_home\n"
     ]
    }
   ],
   "source": [
    "cd .."
   ]
  },
  {
   "cell_type": "code",
   "execution_count": 4,
   "metadata": {},
   "outputs": [
    {
     "name": "stdout",
     "output_type": "stream",
     "text": [
      "C:\\Users\\macuser\\TestingTravisCI\\adam_home\\data\\KARI_withSTKwrapper_2019_03_06\n"
     ]
    }
   ],
   "source": [
    "cd data/KARI_withSTKwrapper_2019_03_06"
   ]
  },
  {
   "cell_type": "code",
   "execution_count": 10,
   "metadata": {},
   "outputs": [
    {
     "name": "stdout",
     "output_type": "stream",
     "text": [
      "C:\\Users\\macuser\\TestingTravisCI\\adam_home\\data\\KARI_withSTKwrapper_2019_03_06\\Summary_Report.csv\n"
     ]
    }
   ],
   "source": [
    "STK_out_file_local = os.getcwd() + '\\Summary_Report.csv'\n",
    "print(STK_out_file_local)"
   ]
  },
  {
   "cell_type": "code",
   "execution_count": 5,
   "metadata": {},
   "outputs": [],
   "source": [
    "#set data directory\n",
    "STK_out_file_remote = '/home/travis/build/RookinsAndBear/TestingTravisCI/adam_home/data/KARI_withSTKwrapper_2019_03_06/Summary_Report.csv'"
   ]
  },
  {
   "cell_type": "code",
   "execution_count": 11,
   "metadata": {},
   "outputs": [
    {
     "name": "stdout",
     "output_type": "stream",
     "text": [
      "STK incompatible with Operating System\n",
      "Bypass output for Travis-CI and load in STK Summary file\n",
      "   Unnamed: 0  LAN (deg)  Number Maneuvers  Total Delta V (m/s)  \\\n",
      "0           0        0.0                26           128.110734   \n",
      "\n",
      "   Mean Delta V (m/s)  Standard Deviation (m/s)  \n",
      "0            4.927336                  1.055957  \n"
     ]
    }
   ],
   "source": [
    "#if platform.system() == 'Windows':\n",
    "#    print(\"STK compatible Operating System\")\n",
    "#    print(\"Notebook can Continue\")\n",
    "#    %run ./KARI_ScienceOrbit.ipynb #Not uploaded to Repo since Travis says we are running Linux\n",
    "#    #%store summaryReportDF, p \n",
    "#    STK_pid = p\n",
    "#    processSTK = psutil.Process(STK_pid)\n",
    "#    processSTK.kill()\n",
    "#else:\n",
    "print(\"STK incompatible with Operating System\")\n",
    "print(\"Bypass output for Travis-CI and load in STK Summary file\")\n",
    "    # Load csv file generated from Windows STK file (KARI_ScienceOrbit.ipynb)\n",
    "#STK_summary = pandas.read_csv(\"Summary_Report.csv\")\n",
    "STK_summary = pandas.read_csv(STK_out_file_remote)\n",
    "print(STK_summary)\n",
    "    #Restore saved information after kernel restart and cell output are cleared\n",
    "    #%store -r summaryReportDF\n",
    "    #print(summaryReportDF)\n"
   ]
  },
  {
   "cell_type": "code",
   "execution_count": 2,
   "metadata": {},
   "outputs": [
    {
     "name": "stdout",
     "output_type": "stream",
     "text": [
      "   LAN (deg)  Number Maneuvers  Total Delta V (m/s)  Mean Delta V (m/s)  \\\n",
      "0        0.0                26           128.110734            4.927336   \n",
      "\n",
      "   Standard Deviation (m/s)  \n",
      "0                  1.055957  \n"
     ]
    }
   ],
   "source": [
    "#Restore saved information after kernel restart and cell output are cleared\n",
    "#%store -r summaryReportDF\n",
    "#print(summaryReportDF)"
   ]
  },
  {
   "cell_type": "raw",
   "metadata": {},
   "source": [
    "%%cache KARIcache.pkl Summary_Report.csv"
   ]
  },
  {
   "cell_type": "raw",
   "metadata": {},
   "source": [
    "class Employee1:\n",
    "    def __init__(self, first, last, pay):\n",
    "        self.first = first\n",
    "        self.last = last\n",
    "        self.pay = pay\n",
    "        self.email = first + '.' + last + '@company.com'\n",
    "        \n",
    "    def fullname(self):\n",
    "        return '{} {}'.format(self.first, self.last) #use {} {} instead of {}{} because I want a space between names"
   ]
  },
  {
   "cell_type": "raw",
   "metadata": {},
   "source": [
    "emp_1 = Employee1('Test', 'User', 60000)\n",
    "print(emp_1.email)\n",
    "print('{}{}'.format(emp_1.first, emp_1.last))"
   ]
  },
  {
   "cell_type": "raw",
   "metadata": {},
   "source": [
    "print(emp_1.fullname())\n",
    "print(Employee1.fullname(emp_1)) # class needs to pass in an instance"
   ]
  },
  {
   "cell_type": "raw",
   "metadata": {},
   "source": [
    "class Employee2:\n",
    "    def __init__(self, first, last):\n",
    "        self.first = first\n",
    "        self.last = last\n",
    "        self.email = first + '.' + last + '@company.com'\n",
    "        \n",
    "    def fullname(self):\n",
    "        return '{} {}'.format(self.first, self.last)"
   ]
  },
  {
   "cell_type": "raw",
   "metadata": {},
   "source": [
    "emp_2 = Employee2('Hershey', 'King')\n",
    "print(emp_2.first)\n",
    "print(emp_2.email)\n",
    "print(emp_2.fullname())\n",
    "\n",
    "emp_2.first = 'Rookins'\n",
    "print(emp_2.first)\n",
    "print(emp_2.email)\n",
    "print(emp_2.fullname())"
   ]
  },
  {
   "cell_type": "raw",
   "metadata": {},
   "source": [
    "class Employee3:\n",
    "    def __init__(self, first, last):\n",
    "        self.first = first\n",
    "        self.last = last\n",
    "        #self.email = first + '.' + last + '@company.com'\n",
    "    \n",
    "    @property #defined method but access like attribute\n",
    "    def email(self):\n",
    "        return '{}.{}@email.com'.format(self.first,self.last)\n",
    "    \n",
    "    @property\n",
    "    def fullname(self):\n",
    "        return '{} {}'.format(self.first, self.last)\n",
    "    \n",
    "    @fullname.setter\n",
    "    def fullname(self, name):\n",
    "        first, last = name.split(' ') #split name by space\n",
    "        self.first = first\n",
    "        self.last = last\n",
    "\n",
    "    @fullname.deleter\n",
    "    def fullname(self):\n",
    "        print('Delete Name')\n",
    "        self.first = None\n",
    "        self.last = None\n",
    "        "
   ]
  },
  {
   "cell_type": "raw",
   "metadata": {},
   "source": [
    "emp_3 = Employee3('Niko', 'King')\n",
    "print(emp_3.first)\n",
    "print(emp_3.email) # Use this if self.email was in __init__ (if moved to another method = decorator)\n",
    "print(emp_3.fullname)\n",
    "# print(emp_3.email()) # Use () if this is another method - previous code will need to be changed\n",
    "# print(emp_3.fullname())\n",
    "\n",
    "emp_3.fullname = 'Emmie King'\n",
    "print(emp_3.first)\n",
    "print(emp_3.email)\n",
    "print(emp_3.fullname)\n",
    "\n",
    "del emp_3.fullname #del is a Python keyword and the deleter overrides the object del method\n",
    "print(emp_3.first)\n",
    "\n",
    "print(emp_3)\n",
    "del emp_3\n",
    "#print(emp_3)"
   ]
  },
  {
   "cell_type": "raw",
   "metadata": {},
   "source": [
    "class Employee4:\n",
    "    \n",
    "    num_of_emps = 0\n",
    "    raise_amt = 1.04 # class variable\n",
    "    \n",
    "    def __init__(self, first, last, pay):\n",
    "        self.first = first\n",
    "        self.last = last\n",
    "        self.pay = pay\n",
    "        self.email = first + '.' + last + '@company.com'\n",
    "        \n",
    "        Employee4.num_of_emps += 1\n",
    "        \n",
    "    def fullname(self):\n",
    "        return '{} {}'.format(self.first, self.last) #use {} {} instead of {}{} because I want a space between names\n",
    "    \n",
    "    def apply_raise(self):\n",
    "        self.pay = int(self.pay * self.raise_amt)\n",
    "        \n",
    "    def __repr__(self):\n",
    "        return \"Employee('{}', '{}', '{}')\".format(self.first, self.last, self.pay)\n",
    "    \n",
    "    def __str__(self):\n",
    "        return '{} - {}'.format(self.fullname(), self.email)\n",
    "    \n",
    "    def __add__(self, other):\n",
    "        return self.pay + other.pay\n",
    "    \n",
    "    def __len__(self):\n",
    "        return len(self.fullname())\n",
    "        #return len(self.fullname) #TypeError: object of type 'method' has no len()\n",
    "        \n",
    "    @classmethod # pass class instead of self, decorator is overriding method\n",
    "    def set_raise_amt(cls, amount):\n",
    "        cls.raise_amt = amount\n",
    "        \n",
    "    @classmethod\n",
    "    def from_string(cls, emp_str):\n",
    "        first, last, pay = emp_str.split('-')\n",
    "        #e = cls(first, last, pay) #same as saying Employee4(first, last, pay) outside of the class\n",
    "        #return e\n",
    "        return cls(first, last, pay)\n",
    "    \n",
    "    @staticmethod\n",
    "    def is_workday(day):\n",
    "        if day.weekday() == 5 or day.weekday() == 6:\n",
    "            return False\n",
    "        return True"
   ]
  },
  {
   "cell_type": "raw",
   "metadata": {},
   "source": [
    "emp_4 = Employee4('Corey', 'Schafer', 50000)\n",
    "emp_5 = Employee4('Test', 'Emp', 75000)\n",
    "\n",
    "#print(Employee4.raise_amt)\n",
    "#print(emp_4.raise_amt)\n",
    "#print(emp_5.raise_amt)\n",
    "\n",
    "Employee4.set_raise_amt(1.06) #same as Employee4.raise_amt = 1.06\n",
    "#print(Employee4.raise_amt)\n",
    "#print(emp_4.raise_amt)\n",
    "#print(emp_5.raise_amt)\n",
    "\n",
    "#print(emp_4)\n",
    "#print(repr(emp_4))\n",
    "#print(str(emp_4))\n",
    "\n",
    "#print(emp_4.__repr__())\n",
    "#print(emp_4.__str__())\n",
    "\n",
    "#print(emp_4 + emp_5)\n",
    "\n",
    "#print(len('test'))\n",
    "#print('test'.__len__())\n",
    "\n",
    "#print(len(emp_4))"
   ]
  },
  {
   "cell_type": "raw",
   "metadata": {},
   "source": [
    "# Class methods = auto pass class variable cls\n",
    "# Instance methods inside a class = auto pass instance variable self \n",
    "# Static methods = don't pass anything automatically -doens't depend on anythig from class or instance methods\n",
    "#emp_6 = Employee4('Brian', 'Andrew', 110000)\n",
    "import datetime\n",
    "my_date = datetime.date(2016,7,10) #sunday\n",
    "print(Employee4.is_workday(my_date))\n",
    "my_date = datetime.date(2016,7,11) #monday\n",
    "print(Employee4.is_workday(my_date))"
   ]
  },
  {
   "cell_type": "raw",
   "metadata": {},
   "source": [
    "emp_str_1 = 'John-Doe-80000'\n",
    "emp_str_2 = 'Steve-Smith-90000'\n",
    "emp_str_3 = 'Jane-Doe-100000'\n",
    "\n",
    "new_emp_1 = Employee4.from_string(emp_str_3)\n",
    "print(new_emp_1.pay)\n",
    "print(new_emp_1.first)"
   ]
  },
  {
   "cell_type": "raw",
   "metadata": {},
   "source": [
    "# Inheritance\n",
    "class Developer(Employee4):\n",
    "    raise_amt = 1.1"
   ]
  },
  {
   "cell_type": "raw",
   "metadata": {},
   "source": [
    "dev_1 = Developer(\"Me\", \"Too\", 50000)\n",
    "dev_2 = Developer(\"Too\", \"Me\", 60000)\n",
    "\n",
    "print(dev_1.pay)\n",
    "#print(dev_2.email)\n",
    "dev_1.apply_raise()\n",
    "print(dev_1.pay)\n",
    "#print(help(Developer))"
   ]
  },
  {
   "cell_type": "raw",
   "metadata": {},
   "source": []
  },
  {
   "cell_type": "raw",
   "metadata": {},
   "source": []
  },
  {
   "cell_type": "code",
   "execution_count": null,
   "metadata": {},
   "outputs": [],
   "source": [
    "\n"
   ]
  },
  {
   "cell_type": "code",
   "execution_count": null,
   "metadata": {},
   "outputs": [],
   "source": []
  },
  {
   "cell_type": "code",
   "execution_count": null,
   "metadata": {},
   "outputs": [],
   "source": []
  }
 ],
 "metadata": {
  "kernelspec": {
   "display_name": "Python 3",
   "language": "python",
   "name": "python3"
  },
  "language_info": {
   "codemirror_mode": {
    "name": "ipython",
    "version": 3
   },
   "file_extension": ".py",
   "mimetype": "text/x-python",
   "name": "python",
   "nbconvert_exporter": "python",
   "pygments_lexer": "ipython3",
   "version": "3.7.1"
  }
 },
 "nbformat": 4,
 "nbformat_minor": 2
}
